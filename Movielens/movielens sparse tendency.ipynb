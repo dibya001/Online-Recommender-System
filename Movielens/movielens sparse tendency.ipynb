{
 "cells": [
  {
   "cell_type": "code",
   "execution_count": 71,
   "metadata": {
    "collapsed": true
   },
   "outputs": [],
   "source": [
    "import pandas as pd"
   ]
  },
  {
   "cell_type": "code",
   "execution_count": 72,
   "metadata": {
    "collapsed": true
   },
   "outputs": [],
   "source": [
    "import numpy as np"
   ]
  },
  {
   "cell_type": "code",
   "execution_count": 73,
   "metadata": {
    "collapsed": true
   },
   "outputs": [],
   "source": [
    "import math"
   ]
  },
  {
   "cell_type": "code",
   "execution_count": 74,
   "metadata": {
    "collapsed": false
   },
   "outputs": [],
   "source": [
    "train=pd.read_csv('f:/ml4trainsparse.csv',usecols=[1,2,3])\n",
    "test=pd.read_csv('f:/ml4testsparse.csv',usecols=[1,2,3])"
   ]
  },
  {
   "cell_type": "code",
   "execution_count": 75,
   "metadata": {
    "collapsed": true
   },
   "outputs": [],
   "source": [
    "no_movies = 3953\n",
    "no_users = 6041"
   ]
  },
  {
   "cell_type": "code",
   "execution_count": 76,
   "metadata": {
    "collapsed": false
   },
   "outputs": [
    {
     "data": {
      "text/html": [
       "<div>\n",
       "<table border=\"1\" class=\"dataframe\">\n",
       "  <thead>\n",
       "    <tr style=\"text-align: right;\">\n",
       "      <th></th>\n",
       "      <th>userId</th>\n",
       "      <th>movieId</th>\n",
       "      <th>rating</th>\n",
       "    </tr>\n",
       "  </thead>\n",
       "  <tbody>\n",
       "    <tr>\n",
       "      <th>0</th>\n",
       "      <td>5074</td>\n",
       "      <td>1574</td>\n",
       "      <td>3</td>\n",
       "    </tr>\n",
       "    <tr>\n",
       "      <th>1</th>\n",
       "      <td>1180</td>\n",
       "      <td>1270</td>\n",
       "      <td>5</td>\n",
       "    </tr>\n",
       "    <tr>\n",
       "      <th>2</th>\n",
       "      <td>1621</td>\n",
       "      <td>2150</td>\n",
       "      <td>3</td>\n",
       "    </tr>\n",
       "    <tr>\n",
       "      <th>3</th>\n",
       "      <td>6036</td>\n",
       "      <td>514</td>\n",
       "      <td>3</td>\n",
       "    </tr>\n",
       "    <tr>\n",
       "      <th>4</th>\n",
       "      <td>3139</td>\n",
       "      <td>678</td>\n",
       "      <td>5</td>\n",
       "    </tr>\n",
       "  </tbody>\n",
       "</table>\n",
       "</div>"
      ],
      "text/plain": [
       "   userId  movieId  rating\n",
       "0    5074     1574       3\n",
       "1    1180     1270       5\n",
       "2    1621     2150       3\n",
       "3    6036      514       3\n",
       "4    3139      678       5"
      ]
     },
     "execution_count": 76,
     "metadata": {},
     "output_type": "execute_result"
    }
   ],
   "source": [
    "train.head()"
   ]
  },
  {
   "cell_type": "code",
   "execution_count": null,
   "metadata": {
    "collapsed": true
   },
   "outputs": [],
   "source": []
  },
  {
   "cell_type": "code",
   "execution_count": 77,
   "metadata": {
    "collapsed": true
   },
   "outputs": [],
   "source": [
    "movies_mean=np.zeros(shape=[no_movies,3])"
   ]
  },
  {
   "cell_type": "code",
   "execution_count": 78,
   "metadata": {
    "collapsed": true
   },
   "outputs": [],
   "source": [
    "user_total=np.zeros(no_users)\n",
    "cnt=np.zeros(no_users,dtype='int64')\n",
    "for i, row in enumerate(train.itertuples(), 1):\n",
    "    p=int(row.movieId)\n",
    "    movies_mean[p][0]+=1\n",
    "    movies_mean[p][1]+=row.rating\n",
    "    k=int(row.userId)\n",
    "    cnt[k]+=1\n",
    "    user_total[k]+=row.rating\n",
    " "
   ]
  },
  {
   "cell_type": "code",
   "execution_count": 79,
   "metadata": {
    "collapsed": false
   },
   "outputs": [],
   "source": [
    "user_mean=np.array([ i/j for i,j in zip(user_total,cnt) ])\n",
    "for x in movies_mean:\n",
    "    x[2]=round(x[1]/x[0],2)\n",
    "    \n",
    "for x in movies_mean:\n",
    "    if math.isnan(x[2]):\n",
    "        x[2]=0\n",
    "        \n"
   ]
  },
  {
   "cell_type": "code",
   "execution_count": 80,
   "metadata": {
    "collapsed": true
   },
   "outputs": [],
   "source": [
    "for i in range(len(user_mean)):\n",
    "    if math.isnan(user_mean[i]):\n",
    "        user_mean[i]=0"
   ]
  },
  {
   "cell_type": "code",
   "execution_count": 81,
   "metadata": {
    "collapsed": true
   },
   "outputs": [],
   "source": [
    "foruser=np.zeros(no_users)\n",
    "formovies=np.zeros(no_movies)\n",
    "for i, row in enumerate(train.itertuples(), 1):\n",
    "    mov=int(row.movieId)\n",
    "    usr=int(row.userId)\n",
    "    foruser[usr]+=movies_mean[mov][2]\n",
    "    formovies[mov]+=user_mean[usr]"
   ]
  },
  {
   "cell_type": "code",
   "execution_count": 82,
   "metadata": {
    "collapsed": true
   },
   "outputs": [],
   "source": [
    "import time"
   ]
  },
  {
   "cell_type": "code",
   "execution_count": 83,
   "metadata": {
    "collapsed": true
   },
   "outputs": [],
   "source": [
    "%matplotlib inline\n",
    "import matplotlib.pyplot as plt"
   ]
  },
  {
   "cell_type": "code",
   "execution_count": null,
   "metadata": {
    "collapsed": true
   },
   "outputs": [],
   "source": []
  },
  {
   "cell_type": "code",
   "execution_count": 84,
   "metadata": {
    "collapsed": true
   },
   "outputs": [],
   "source": [
    "rmse=[]\n",
    "mae=[]\n",
    "gim=[]\n",
    "gpim=[]\n",
    "precission=[]\n",
    "recall=[]\n",
    "Beta=[i/10 for i in range(1,11)]\n",
    "for beta in Beta:\n",
    "    error=0\n",
    "    err1=0\n",
    "    g2=0\n",
    "    gp2=0\n",
    "    tp=0\n",
    "    fp=0\n",
    "    tn=0\n",
    "    fn=0\n",
    "    c_gim=0\n",
    "    c_gpim=0\n",
    "    c=0\n",
    "    for i, row in enumerate(test.itertuples(), 1):\n",
    "        \n",
    "        mov=int(row.movieId)\n",
    "        usr=int(row.userId)\n",
    "        actual=row.rating\n",
    "        predicted_rating=0\n",
    "    \n",
    "    \n",
    "        usr_mean=user_mean[usr]\n",
    "    \n",
    "        item_mean=movies_mean[mov][2]\n",
    "        usr_rated=cnt[usr]\n",
    "        usr_tendency=0\n",
    "        if usr_rated!=0:\n",
    "            usr_tendency=(user_total[usr]-foruser[usr])/usr_rated\n",
    "   \n",
    "        no_of_ratings=movies_mean[mov][0]\n",
    "        item_tendency=0\n",
    "        if no_of_ratings!=0:\n",
    "            item_tendency=(movies_mean[mov][1]-formovies[mov])/no_of_ratings\n",
    "   \n",
    "        if usr_tendency>=0 and item_tendency>=0:\n",
    "            predicted_rating=max(usr_mean+item_tendency,item_mean+usr_tendency)\n",
    "    \n",
    "        elif usr_tendency<0 and item_tendency<0:\n",
    "            predicted_rating=min(usr_mean+item_tendency,item_mean+usr_tendency)\n",
    "    \n",
    "        elif usr_tendency<0 and item_tendency>=0 and item_mean>usr_mean:\n",
    "            predicted_rating=min(max(usr_mean, (item_mean+usr_tendency)*beta + (usr_mean+item_tendency)*(1-beta)),item_mean)\n",
    "        \n",
    "        elif usr_tendency>=0 and item_tendency<0 and item_mean<usr_mean:\n",
    "            predicted_rating=min(max(item_mean, (item_mean+usr_tendency)*beta + (usr_mean+item_tendency)*(1-beta)),usr_mean)\n",
    "        else:\n",
    "            predicted_rating=((item_mean*beta) +usr_mean*(1-beta))\n",
    "    \n",
    "        error+=((actual-predicted_rating)**2)\n",
    "        err1+=math.fabs(actual-predicted_rating)\n",
    "        c+=1\n",
    "        if actual >=3:\n",
    "            g2+=abs(actual-predicted_rating)\n",
    "            c_gim+=1\n",
    "        if predicted_rating >=3:\n",
    "            gp2+=abs(actual-predicted_rating)\n",
    "            c_gpim+=1\n",
    "    \n",
    "        if actual>=3 and predicted_rating>=3:\n",
    "            tp+=1\n",
    "        elif actual<3 and predicted_rating>=3:\n",
    "            fp+=1\n",
    "        elif actual>=3 and predicted_rating<3:\n",
    "            fn+=1\n",
    "        else:\n",
    "            tn+=1\n",
    "    \n",
    "    gim.append(g2/c_gim)\n",
    "    gpim.append(gp2/c_gpim)\n",
    "    precission.append(tp/(tp+fp))\n",
    "    recall.append(tp/(tp+fn))\n",
    "    rmse.append(math.sqrt(error/c))\n",
    "    mae.append(err1/c)"
   ]
  },
  {
   "cell_type": "code",
   "execution_count": 85,
   "metadata": {
    "collapsed": false
   },
   "outputs": [
    {
     "data": {
      "text/plain": [
       "[<matplotlib.lines.Line2D at 0x286efeab1d0>]"
      ]
     },
     "execution_count": 85,
     "metadata": {},
     "output_type": "execute_result"
    },
    {
     "data": {
      "image/png": "[encoded data removed]",
      "text/plain": [
       "<matplotlib.figure.Figure at 0x286efe427b8>"
      ]
     },
     "metadata": {},
     "output_type": "display_data"
    }
   ],
   "source": [
    "plt.plot(Beta,rmse)"
   ]
  },
  {
   "cell_type": "code",
   "execution_count": 86,
   "metadata": {
    "collapsed": false
   },
   "outputs": [
    {
     "data": {
      "text/plain": [
       "[<matplotlib.lines.Line2D at 0x286f0722710>]"
      ]
     },
     "execution_count": 86,
     "metadata": {},
     "output_type": "execute_result"
    },
    {
     "data": {
      "image/png": "[encoded data removed]",
      "text/plain": [
       "<matplotlib.figure.Figure at 0x286efe04d30>"
      ]
     },
     "metadata": {},
     "output_type": "display_data"
    }
   ],
   "source": [
    "plt.plot(Beta,mae)"
   ]
  },
  {
   "cell_type": "code",
   "execution_count": 87,
   "metadata": {
    "collapsed": false
   },
   "outputs": [
    {
     "data": {
      "text/plain": [
       "[0.8315938943503706,\n",
       " 0.8291032367136296,\n",
       " 0.82699733320667,\n",
       " 0.8252257568783837,\n",
       " 0.82378898950401,\n",
       " 0.8228193473783338,\n",
       " 0.8222294912191803,\n",
       " 0.8220482268808761,\n",
       " 0.822282817260278,\n",
       " 0.8229651173088023]"
      ]
     },
     "execution_count": 87,
     "metadata": {},
     "output_type": "execute_result"
    }
   ],
   "source": [
    "mae"
   ]
  },
  {
   "cell_type": "code",
   "execution_count": 88,
   "metadata": {
    "collapsed": false
   },
   "outputs": [
    {
     "data": {
      "text/plain": [
       "[1.0583281834648555,\n",
       " 1.0546674133255363,\n",
       " 1.0516219765967827,\n",
       " 1.049127841374316,\n",
       " 1.047245677515811,\n",
       " 1.045996591011399,\n",
       " 1.0453944260355017,\n",
       " 1.0454412792972627,\n",
       " 1.046180279966885,\n",
       " 1.0475910962506036]"
      ]
     },
     "execution_count": 88,
     "metadata": {},
     "output_type": "execute_result"
    }
   ],
   "source": [
    "rmse"
   ]
  },
  {
   "cell_type": "code",
   "execution_count": 89,
   "metadata": {
    "collapsed": false
   },
   "outputs": [
    {
     "data": {
      "text/plain": [
       "[0.74402309001663325,\n",
       " 0.74115499114268146,\n",
       " 0.73872331251747325,\n",
       " 0.73661540680139725,\n",
       " 0.73482280631481167,\n",
       " 0.73347132128234416,\n",
       " 0.73256240386921356,\n",
       " 0.73210557033695256,\n",
       " 0.73207910788147101,\n",
       " 0.73257854140816214]"
      ]
     },
     "execution_count": 89,
     "metadata": {},
     "output_type": "execute_result"
    }
   ],
   "source": [
    "gim"
   ]
  },
  {
   "cell_type": "code",
   "execution_count": 90,
   "metadata": {
    "collapsed": false
   },
   "outputs": [
    {
     "data": {
      "text/plain": [
       "[0.79746213564422075,\n",
       " 0.7955957294378706,\n",
       " 0.79350765865383077,\n",
       " 0.79214382749434964,\n",
       " 0.79097568343954794,\n",
       " 0.78939530024258131,\n",
       " 0.78937830248353713,\n",
       " 0.78904939944811636,\n",
       " 0.78984519705163148,\n",
       " 0.7915490187838865]"
      ]
     },
     "execution_count": 90,
     "metadata": {},
     "output_type": "execute_result"
    }
   ],
   "source": [
    "gpim"
   ]
  },
  {
   "cell_type": "code",
   "execution_count": 91,
   "metadata": {
    "collapsed": false
   },
   "outputs": [
    {
     "data": {
      "text/plain": [
       "[0.887986148108684,\n",
       " 0.8883282432611871,\n",
       " 0.8886384727561978,\n",
       " 0.8881683430386448,\n",
       " 0.888477801268499,\n",
       " 0.8887716057527378,\n",
       " 0.8881726088672544,\n",
       " 0.8891664475414147,\n",
       " 0.8889034799737361,\n",
       " 0.8888304862023653]"
      ]
     },
     "execution_count": 91,
     "metadata": {},
     "output_type": "execute_result"
    }
   ],
   "source": [
    "precission"
   ]
  },
  {
   "cell_type": "code",
   "execution_count": 92,
   "metadata": {
    "collapsed": false
   },
   "outputs": [
    {
     "data": {
      "text/plain": [
       "[0.7826035919708886,\n",
       " 0.7853034393708181,\n",
       " 0.7868294400751262,\n",
       " 0.7877685174316235,\n",
       " 0.7892945181359314,\n",
       " 0.7907031341706773,\n",
       " 0.7924639042141096,\n",
       " 0.7938725202488555,\n",
       " 0.7945768282662284,\n",
       " 0.7939899049184177]"
      ]
     },
     "execution_count": 92,
     "metadata": {},
     "output_type": "execute_result"
    }
   ],
   "source": [
    "recall"
   ]
  }
 ],
 "metadata": {
  "anaconda-cloud": {},
  "kernelspec": {
   "display_name": "Python [default]",
   "language": "python",
   "name": "python3"
  },
  "language_info": {
   "codemirror_mode": {
    "name": "ipython",
    "version": 3
   },
   "file_extension": ".py",
   "mimetype": "text/x-python",
   "name": "python",
   "nbconvert_exporter": "python",
   "pygments_lexer": "ipython3",
   "version": "3.5.2"
  }
 },
 "nbformat": 4,
 "nbformat_minor": 1
}
