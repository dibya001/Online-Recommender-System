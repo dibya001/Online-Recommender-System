{
 "cells": [
  {
   "cell_type": "code",
   "execution_count": 70,
   "metadata": {
    "collapsed": true
   },
   "outputs": [],
   "source": [
    "import pandas as pd\n",
    "import numpy as np\n",
    "import matplotlib.pyplot as plt\n",
    "%matplotlib inline"
   ]
  },
  {
   "cell_type": "code",
   "execution_count": 71,
   "metadata": {
    "collapsed": true
   },
   "outputs": [],
   "source": [
    "train=pd.read_csv('f:/ml4trainsparse.csv',usecols=[1,2,3])\n",
    "test=pd.read_csv('f:/ml4testsparse.csv',usecols=[1,2,3])"
   ]
  },
  {
   "cell_type": "code",
   "execution_count": 72,
   "metadata": {
    "collapsed": true
   },
   "outputs": [],
   "source": [
    "no_movies = 3953\n",
    "no_users = 6041"
   ]
  },
  {
   "cell_type": "code",
   "execution_count": 73,
   "metadata": {
    "collapsed": true
   },
   "outputs": [],
   "source": [
    "import time"
   ]
  },
  {
   "cell_type": "code",
   "execution_count": 74,
   "metadata": {
    "collapsed": false
   },
   "outputs": [],
   "source": [
    "rated= [set() for i in range(no_movies) ]\n",
    "dictionary={}"
   ]
  },
  {
   "cell_type": "code",
   "execution_count": 75,
   "metadata": {
    "collapsed": true
   },
   "outputs": [],
   "source": [
    "deviation=np.zeros(no_movies*no_movies).reshape(no_movies,no_movies)\n",
    "cardinality=np.zeros(no_movies*no_movies).reshape(no_movies,no_movies)"
   ]
  },
  {
   "cell_type": "code",
   "execution_count": 76,
   "metadata": {
    "collapsed": true
   },
   "outputs": [],
   "source": [
    "for i, row in enumerate(train.itertuples(), 1):\n",
    "    usr=int(row.userId)\n",
    "    mov=int(row.movieId)\n",
    "    rate=row.rating\n",
    "    \n",
    "    rated[mov].add(usr)\n",
    "    dictionary[(usr,mov)]=rate"
   ]
  },
  {
   "cell_type": "code",
   "execution_count": 77,
   "metadata": {
    "collapsed": false
   },
   "outputs": [],
   "source": [
    "for i in range(no_movies):\n",
    "    t1=time.time()\n",
    "    \n",
    "    for j in range(i+1,no_movies):\n",
    "        tmprate = list(rated[i].intersection(rated[j]))\n",
    "        \n",
    "        uoutput=0\n",
    "        c=0\n",
    "        for uid in tmprate:\n",
    "            uoutput=uoutput+(dictionary[(uid,j)]-dictionary[(uid,i)])\n",
    "            c=c+1\n",
    "            \n",
    "        deviation[i][j]=uoutput\n",
    "        deviation[j][i]=-uoutput\n",
    "        cardinality[i][j]=c\n",
    "        cardinality[j][i]=c"
   ]
  },
  {
   "cell_type": "code",
   "execution_count": 78,
   "metadata": {
    "collapsed": false
   },
   "outputs": [
    {
     "data": {
      "text/html": [
       "<div>\n",
       "<table border=\"1\" class=\"dataframe\">\n",
       "  <thead>\n",
       "    <tr style=\"text-align: right;\">\n",
       "      <th></th>\n",
       "      <th>userId</th>\n",
       "      <th>movieId</th>\n",
       "      <th>rating</th>\n",
       "    </tr>\n",
       "  </thead>\n",
       "  <tbody>\n",
       "    <tr>\n",
       "      <th>count</th>\n",
       "      <td>10865.000000</td>\n",
       "      <td>10865.000000</td>\n",
       "      <td>10865.000000</td>\n",
       "    </tr>\n",
       "    <tr>\n",
       "      <th>mean</th>\n",
       "      <td>3985.905108</td>\n",
       "      <td>1956.120110</td>\n",
       "      <td>3.412241</td>\n",
       "    </tr>\n",
       "    <tr>\n",
       "      <th>std</th>\n",
       "      <td>1845.833670</td>\n",
       "      <td>1139.847254</td>\n",
       "      <td>1.199479</td>\n",
       "    </tr>\n",
       "    <tr>\n",
       "      <th>min</th>\n",
       "      <td>1.000000</td>\n",
       "      <td>1.000000</td>\n",
       "      <td>1.000000</td>\n",
       "    </tr>\n",
       "    <tr>\n",
       "      <th>25%</th>\n",
       "      <td>2481.000000</td>\n",
       "      <td>1022.000000</td>\n",
       "      <td>3.000000</td>\n",
       "    </tr>\n",
       "    <tr>\n",
       "      <th>50%</th>\n",
       "      <td>4508.000000</td>\n",
       "      <td>1966.000000</td>\n",
       "      <td>4.000000</td>\n",
       "    </tr>\n",
       "    <tr>\n",
       "      <th>75%</th>\n",
       "      <td>5682.000000</td>\n",
       "      <td>2916.000000</td>\n",
       "      <td>4.000000</td>\n",
       "    </tr>\n",
       "    <tr>\n",
       "      <th>max</th>\n",
       "      <td>6040.000000</td>\n",
       "      <td>3952.000000</td>\n",
       "      <td>5.000000</td>\n",
       "    </tr>\n",
       "  </tbody>\n",
       "</table>\n",
       "</div>"
      ],
      "text/plain": [
       "             userId       movieId        rating\n",
       "count  10865.000000  10865.000000  10865.000000\n",
       "mean    3985.905108   1956.120110      3.412241\n",
       "std     1845.833670   1139.847254      1.199479\n",
       "min        1.000000      1.000000      1.000000\n",
       "25%     2481.000000   1022.000000      3.000000\n",
       "50%     4508.000000   1966.000000      4.000000\n",
       "75%     5682.000000   2916.000000      4.000000\n",
       "max     6040.000000   3952.000000      5.000000"
      ]
     },
     "execution_count": 78,
     "metadata": {},
     "output_type": "execute_result"
    }
   ],
   "source": [
    "test.describe()"
   ]
  },
  {
   "cell_type": "code",
   "execution_count": 79,
   "metadata": {
    "collapsed": false
   },
   "outputs": [],
   "source": [
    "number=test['userId'].count()"
   ]
  },
  {
   "cell_type": "code",
   "execution_count": 80,
   "metadata": {
    "collapsed": true
   },
   "outputs": [],
   "source": [
    "import math"
   ]
  },
  {
   "cell_type": "code",
   "execution_count": 81,
   "metadata": {
    "collapsed": false
   },
   "outputs": [],
   "source": [
    "rmse_normal2=0\n",
    "mae_normal2=0\n",
    "err_gim=0\n",
    "err_gpim=0\n",
    "c_gim=0\n",
    "c_gpim=0\n",
    "tp=0\n",
    "fp=0\n",
    "tn=0\n",
    "fn=0\n",
    "for i, row in enumerate(test.itertuples(), 1):\n",
    "    usr=int(row.userId)\n",
    "    mov=int(row.movieId)\n",
    "    actual=row.rating\n",
    "    pred_normal2=0\n",
    "    pred_weighted2=0\n",
    "    sum_weighted2=0\n",
    "    list_of_all_movies_rate_by_the_current_user=train[train['userId']==usr]\n",
    "    length=list_of_all_movies_rate_by_the_current_user.shape[0]\n",
    "    cnt=0\n",
    "    for j,r2 in enumerate(list_of_all_movies_rate_by_the_current_user.itertuples(),1):\n",
    "        curmov=r2.movieId\n",
    "        currate=r2.rating\n",
    "        if cardinality[curmov][mov]!=0:\n",
    "            pred_normal2+=(currate+(deviation[curmov][mov]/ cardinality[curmov][mov]))\n",
    "            cnt+=1\n",
    "    if cnt!=0:\n",
    "        predicted_normal2=(pred_normal2/cnt)\n",
    "    else:\n",
    "        predicted_normal2=0\n",
    "    if predicted_normal2>5:\n",
    "        predicted_normal2=5\n",
    "    if predicted_normal2 <0:\n",
    "        predicted_normal2=0\n",
    "    \n",
    "    if actual >=3:\n",
    "        err_gim+=math.fabs(actual-predicted_normal2)\n",
    "        c_gim+=1\n",
    "    if predicted_normal2>=3:\n",
    "        err_gpim+=math.fabs(actual-predicted_normal2)\n",
    "        c_gpim+=1\n",
    "    if actual>=3 and predicted_normal2>=3:\n",
    "        tp+=1\n",
    "    elif actual<3 and predicted_normal2>=3:\n",
    "        fp+=1\n",
    "    elif actual>=3 and predicted_normal2<3:\n",
    "        fn+=1\n",
    "    else:\n",
    "        tn+=1\n",
    "    rmse_normal2+=((actual-predicted_normal2)**2)\n",
    "    mae_normal2+=abs(actual-predicted_normal2)\n",
    "    "
   ]
  },
  {
   "cell_type": "code",
   "execution_count": 82,
   "metadata": {
    "collapsed": false
   },
   "outputs": [
    {
     "name": "stdout",
     "output_type": "stream",
     "text": [
      "1.67115717648\n"
     ]
    }
   ],
   "source": [
    "print(mae_normal2/number)"
   ]
  },
  {
   "cell_type": "code",
   "execution_count": 83,
   "metadata": {
    "collapsed": true
   },
   "outputs": [],
   "source": [
    "import math"
   ]
  },
  {
   "cell_type": "code",
   "execution_count": null,
   "metadata": {
    "collapsed": true
   },
   "outputs": [],
   "source": []
  },
  {
   "cell_type": "code",
   "execution_count": 84,
   "metadata": {
    "collapsed": false
   },
   "outputs": [
    {
     "name": "stdout",
     "output_type": "stream",
     "text": [
      "2.2424399637794536\n"
     ]
    }
   ],
   "source": [
    "print(math.sqrt(rmse_normal2/number))"
   ]
  },
  {
   "cell_type": "code",
   "execution_count": 85,
   "metadata": {
    "collapsed": false
   },
   "outputs": [
    {
     "data": {
      "text/plain": [
       "1.7785889666506391"
      ]
     },
     "execution_count": 85,
     "metadata": {},
     "output_type": "execute_result"
    }
   ],
   "source": [
    "err_gim/c_gim"
   ]
  },
  {
   "cell_type": "code",
   "execution_count": 86,
   "metadata": {
    "collapsed": false
   },
   "outputs": [
    {
     "data": {
      "text/plain": [
       "0.862302471180833"
      ]
     },
     "execution_count": 86,
     "metadata": {},
     "output_type": "execute_result"
    }
   ],
   "source": [
    "err_gpim/c_gpim"
   ]
  },
  {
   "cell_type": "code",
   "execution_count": 87,
   "metadata": {
    "collapsed": false
   },
   "outputs": [
    {
     "data": {
      "text/plain": [
       "0.8661207389068749"
      ]
     },
     "execution_count": 87,
     "metadata": {},
     "output_type": "execute_result"
    }
   ],
   "source": [
    "tp/(tp+fp)"
   ]
  },
  {
   "cell_type": "code",
   "execution_count": 88,
   "metadata": {
    "collapsed": false
   },
   "outputs": [
    {
     "data": {
      "text/plain": [
       "0.5338654771686818"
      ]
     },
     "execution_count": 88,
     "metadata": {},
     "output_type": "execute_result"
    }
   ],
   "source": [
    "tp/(tp+fn)"
   ]
  }
 ],
 "metadata": {
  "anaconda-cloud": {},
  "kernelspec": {
   "display_name": "Python [default]",
   "language": "python",
   "name": "python3"
  },
  "language_info": {
   "codemirror_mode": {
    "name": "ipython",
    "version": 3
   },
   "file_extension": ".py",
   "mimetype": "text/x-python",
   "name": "python",
   "nbconvert_exporter": "python",
   "pygments_lexer": "ipython3",
   "version": "3.5.2"
  }
 },
 "nbformat": 4,
 "nbformat_minor": 1
}
