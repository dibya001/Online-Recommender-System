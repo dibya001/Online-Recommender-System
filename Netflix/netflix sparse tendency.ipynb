{
 "cells": [
  {
   "cell_type": "code",
   "execution_count": 67,
   "metadata": {
    "collapsed": true
   },
   "outputs": [],
   "source": [
    "import pandas as pd"
   ]
  },
  {
   "cell_type": "code",
   "execution_count": 68,
   "metadata": {
    "collapsed": true
   },
   "outputs": [],
   "source": [
    "import numpy as np"
   ]
  },
  {
   "cell_type": "code",
   "execution_count": 69,
   "metadata": {
    "collapsed": true
   },
   "outputs": [],
   "source": [
    "import math"
   ]
  },
  {
   "cell_type": "code",
   "execution_count": 70,
   "metadata": {
    "collapsed": true
   },
   "outputs": [],
   "source": [
    "train=pd.read_csv('f:/net4trainsparse.csv',usecols=[1,2,3])\n",
    "test=pd.read_csv('f:/net4testsparse.csv',usecols=[1,2,3])"
   ]
  },
  {
   "cell_type": "code",
   "execution_count": 71,
   "metadata": {
    "collapsed": true
   },
   "outputs": [],
   "source": [
    "no_movies = 9318\n",
    "no_users = 8141"
   ]
  },
  {
   "cell_type": "code",
   "execution_count": 72,
   "metadata": {
    "collapsed": false
   },
   "outputs": [
    {
     "data": {
      "text/html": [
       "<div>\n",
       "<table border=\"1\" class=\"dataframe\">\n",
       "  <thead>\n",
       "    <tr style=\"text-align: right;\">\n",
       "      <th></th>\n",
       "      <th>userId</th>\n",
       "      <th>itemId</th>\n",
       "      <th>rating</th>\n",
       "    </tr>\n",
       "  </thead>\n",
       "  <tbody>\n",
       "    <tr>\n",
       "      <th>0</th>\n",
       "      <td>569</td>\n",
       "      <td>2705</td>\n",
       "      <td>5.0</td>\n",
       "    </tr>\n",
       "    <tr>\n",
       "      <th>1</th>\n",
       "      <td>7993</td>\n",
       "      <td>4709</td>\n",
       "      <td>4.0</td>\n",
       "    </tr>\n",
       "    <tr>\n",
       "      <th>2</th>\n",
       "      <td>5021</td>\n",
       "      <td>6516</td>\n",
       "      <td>5.0</td>\n",
       "    </tr>\n",
       "    <tr>\n",
       "      <th>3</th>\n",
       "      <td>7840</td>\n",
       "      <td>1573</td>\n",
       "      <td>1.0</td>\n",
       "    </tr>\n",
       "    <tr>\n",
       "      <th>4</th>\n",
       "      <td>7220</td>\n",
       "      <td>3882</td>\n",
       "      <td>2.0</td>\n",
       "    </tr>\n",
       "  </tbody>\n",
       "</table>\n",
       "</div>"
      ],
      "text/plain": [
       "   userId  itemId  rating\n",
       "0     569    2705     5.0\n",
       "1    7993    4709     4.0\n",
       "2    5021    6516     5.0\n",
       "3    7840    1573     1.0\n",
       "4    7220    3882     2.0"
      ]
     },
     "execution_count": 72,
     "metadata": {},
     "output_type": "execute_result"
    }
   ],
   "source": [
    "train.head()"
   ]
  },
  {
   "cell_type": "code",
   "execution_count": null,
   "metadata": {
    "collapsed": true
   },
   "outputs": [],
   "source": []
  },
  {
   "cell_type": "code",
   "execution_count": 73,
   "metadata": {
    "collapsed": true
   },
   "outputs": [],
   "source": [
    "movies_mean=np.zeros(shape=[no_movies,3])"
   ]
  },
  {
   "cell_type": "code",
   "execution_count": 74,
   "metadata": {
    "collapsed": true
   },
   "outputs": [],
   "source": [
    "user_total=np.zeros(no_users)\n",
    "cnt=np.zeros(no_users,dtype='int64')\n",
    "for i, row in enumerate(train.itertuples(), 1):\n",
    "    p=int(row.itemId)\n",
    "    movies_mean[p][0]+=1\n",
    "    movies_mean[p][1]+=row.rating\n",
    "    k=int(row.userId)\n",
    "    cnt[k]+=1\n",
    "    user_total[k]+=row.rating\n",
    " "
   ]
  },
  {
   "cell_type": "code",
   "execution_count": 75,
   "metadata": {
    "collapsed": false
   },
   "outputs": [],
   "source": [
    "user_mean=np.array([ i/j for i,j in zip(user_total,cnt) ])\n",
    "for x in movies_mean:\n",
    "    x[2]=round(x[1]/x[0],2)\n",
    "    \n",
    "for x in movies_mean:\n",
    "    if math.isnan(x[2]):\n",
    "        x[2]=0\n",
    "        \n"
   ]
  },
  {
   "cell_type": "code",
   "execution_count": 76,
   "metadata": {
    "collapsed": true
   },
   "outputs": [],
   "source": [
    "for i in range(len(user_mean)):\n",
    "    if math.isnan(user_mean[i]):\n",
    "        user_mean[i]=0"
   ]
  },
  {
   "cell_type": "code",
   "execution_count": 77,
   "metadata": {
    "collapsed": false
   },
   "outputs": [],
   "source": [
    "foruser=np.zeros(no_users)\n",
    "formovies=np.zeros(no_movies)\n",
    "for i, row in enumerate(train.itertuples(), 1):\n",
    "    mov=int(row.itemId)\n",
    "    usr=int(row.userId)\n",
    "    foruser[usr]+=movies_mean[mov][2]\n",
    "    formovies[mov]+=user_mean[usr]"
   ]
  },
  {
   "cell_type": "code",
   "execution_count": 78,
   "metadata": {
    "collapsed": true
   },
   "outputs": [],
   "source": [
    "import time"
   ]
  },
  {
   "cell_type": "code",
   "execution_count": 79,
   "metadata": {
    "collapsed": true
   },
   "outputs": [],
   "source": [
    "%matplotlib inline\n",
    "import matplotlib.pyplot as plt"
   ]
  },
  {
   "cell_type": "code",
   "execution_count": null,
   "metadata": {
    "collapsed": true
   },
   "outputs": [],
   "source": []
  },
  {
   "cell_type": "code",
   "execution_count": 80,
   "metadata": {
    "collapsed": true
   },
   "outputs": [],
   "source": [
    "rmse=[]\n",
    "mae=[]\n",
    "gim=[]\n",
    "gpim=[]\n",
    "precission=[]\n",
    "recall=[]\n",
    "Beta=[i/10 for i in range(1,11)]\n",
    "for beta in Beta:\n",
    "    error=0\n",
    "    err1=0\n",
    "    g2=0\n",
    "    gp2=0\n",
    "    tp=0\n",
    "    fp=0\n",
    "    tn=0\n",
    "    fn=0\n",
    "    c_gim=0\n",
    "    c_gpim=0\n",
    "    c=0\n",
    "    for i, row in enumerate(test.itertuples(), 1):\n",
    "        \n",
    "        mov=int(row.itemId)\n",
    "        usr=int(row.userId)\n",
    "        actual=row.rating\n",
    "        predicted_rating=0\n",
    "    \n",
    "    \n",
    "        usr_mean=user_mean[usr]\n",
    "    \n",
    "        item_mean=movies_mean[mov][2]\n",
    "        usr_rated=cnt[usr]\n",
    "        usr_tendency=0\n",
    "        if usr_rated!=0:\n",
    "            usr_tendency=(user_total[usr]-foruser[usr])/usr_rated\n",
    "   \n",
    "        no_of_ratings=movies_mean[mov][0]\n",
    "        item_tendency=0\n",
    "        if no_of_ratings!=0:\n",
    "            item_tendency=(movies_mean[mov][1]-formovies[mov])/no_of_ratings\n",
    "   \n",
    "        if usr_tendency>=0 and item_tendency>=0:\n",
    "            predicted_rating=max(usr_mean+item_tendency,item_mean+usr_tendency)\n",
    "    \n",
    "        elif usr_tendency<0 and item_tendency<0:\n",
    "            predicted_rating=min(usr_mean+item_tendency,item_mean+usr_tendency)\n",
    "    \n",
    "        elif usr_tendency<0 and item_tendency>=0 and item_mean>usr_mean:\n",
    "            predicted_rating=min(max(usr_mean, (item_mean+usr_tendency)*beta + (usr_mean+item_tendency)*(1-beta)),item_mean)\n",
    "        \n",
    "        elif usr_tendency>=0 and item_tendency<0 and item_mean<usr_mean:\n",
    "            predicted_rating=min(max(item_mean, (item_mean+usr_tendency)*beta + (usr_mean+item_tendency)*(1-beta)),usr_mean)\n",
    "        else:\n",
    "            predicted_rating=((item_mean*beta) +usr_mean*(1-beta))\n",
    "    \n",
    "        error+=((actual-predicted_rating)**2)\n",
    "        err1+=math.fabs(actual-predicted_rating)\n",
    "        c+=1\n",
    "        if actual >=3:\n",
    "            g2+=abs(actual-predicted_rating)\n",
    "            c_gim+=1\n",
    "        if predicted_rating >=3:\n",
    "            gp2+=abs(actual-predicted_rating)\n",
    "            c_gpim+=1\n",
    "    \n",
    "        if actual>=3 and predicted_rating>=3:\n",
    "            tp+=1\n",
    "        elif actual<3 and predicted_rating>=3:\n",
    "            fp+=1\n",
    "        elif actual>=3 and predicted_rating<3:\n",
    "            fn+=1\n",
    "        else:\n",
    "            tn+=1\n",
    "    \n",
    "    gim.append(g2/c_gim)\n",
    "    gpim.append(gp2/c_gpim)\n",
    "    precission.append(tp/(tp+fp))\n",
    "    recall.append(tp/(tp+fn))\n",
    "    rmse.append(math.sqrt(error/c))\n",
    "    mae.append(err1/c)"
   ]
  },
  {
   "cell_type": "code",
   "execution_count": 81,
   "metadata": {
    "collapsed": false
   },
   "outputs": [
    {
     "data": {
      "text/plain": [
       "[<matplotlib.lines.Line2D at 0x19cdf6a5588>]"
      ]
     },
     "execution_count": 81,
     "metadata": {},
     "output_type": "execute_result"
    },
    {
     "data": {
      "image/png": "[encoded data removed]",
      "text/plain": [
       "<matplotlib.figure.Figure at 0x19cdf3fd080>"
      ]
     },
     "metadata": {},
     "output_type": "display_data"
    }
   ],
   "source": [
    "plt.plot(Beta,rmse)"
   ]
  },
  {
   "cell_type": "code",
   "execution_count": 82,
   "metadata": {
    "collapsed": false
   },
   "outputs": [
    {
     "data": {
      "text/plain": [
       "[<matplotlib.lines.Line2D at 0x19cdf7059e8>]"
      ]
     },
     "execution_count": 82,
     "metadata": {},
     "output_type": "execute_result"
    },
    {
     "data": {
      "image/png": "[encoded data removed]",
      "text/plain": [
       "<matplotlib.figure.Figure at 0x19ce0650eb8>"
      ]
     },
     "metadata": {},
     "output_type": "display_data"
    }
   ],
   "source": [
    "plt.plot(Beta,mae)"
   ]
  },
  {
   "cell_type": "code",
   "execution_count": 83,
   "metadata": {
    "collapsed": false
   },
   "outputs": [
    {
     "data": {
      "text/plain": [
       "[0.7987162236028456,\n",
       " 0.7980661424685862,\n",
       " 0.7975850286202343,\n",
       " 0.7973043266929115,\n",
       " 0.7971971838289703,\n",
       " 0.7973067640057014,\n",
       " 0.7976550582438018,\n",
       " 0.7982049525900567,\n",
       " 0.7989053492843137,\n",
       " 0.7997611336180067]"
      ]
     },
     "execution_count": 83,
     "metadata": {},
     "output_type": "execute_result"
    }
   ],
   "source": [
    "mae"
   ]
  },
  {
   "cell_type": "code",
   "execution_count": 84,
   "metadata": {
    "collapsed": false
   },
   "outputs": [
    {
     "data": {
      "text/plain": [
       "[1.0249713485232235,\n",
       " 1.0238879731954402,\n",
       " 1.0230599459682697,\n",
       " 1.0225144697523239,\n",
       " 1.0222475695495399,\n",
       " 1.0222433578245953,\n",
       " 1.0225299669623267,\n",
       " 1.0230971381947802,\n",
       " 1.0239145908625242,\n",
       " 1.0249654100591656]"
      ]
     },
     "execution_count": 84,
     "metadata": {},
     "output_type": "execute_result"
    }
   ],
   "source": [
    "rmse"
   ]
  },
  {
   "cell_type": "code",
   "execution_count": 85,
   "metadata": {
    "collapsed": false
   },
   "outputs": [
    {
     "data": {
      "text/plain": [
       "[0.69486488702785343,\n",
       " 0.69402821157227501,\n",
       " 0.69338465911432046,\n",
       " 0.6929633159652312,\n",
       " 0.69273843774617216,\n",
       " 0.69275847857706285,\n",
       " 0.69304101238895188,\n",
       " 0.69355297930286708,\n",
       " 0.69424259676316069,\n",
       " 0.69511330619819267]"
      ]
     },
     "execution_count": 85,
     "metadata": {},
     "output_type": "execute_result"
    }
   ],
   "source": [
    "gim"
   ]
  },
  {
   "cell_type": "code",
   "execution_count": 86,
   "metadata": {
    "collapsed": false
   },
   "outputs": [
    {
     "data": {
      "text/plain": [
       "[0.77221566040326883,\n",
       " 0.77192787790188377,\n",
       " 0.77136862167045817,\n",
       " 0.77101524596086735,\n",
       " 0.77041097518366564,\n",
       " 0.77047014170862738,\n",
       " 0.77108248503473287,\n",
       " 0.77221994939423799,\n",
       " 0.77260607179177088,\n",
       " 0.77320666233107704]"
      ]
     },
     "execution_count": 86,
     "metadata": {},
     "output_type": "execute_result"
    }
   ],
   "source": [
    "gpim"
   ]
  },
  {
   "cell_type": "code",
   "execution_count": 87,
   "metadata": {
    "collapsed": false
   },
   "outputs": [
    {
     "data": {
      "text/plain": [
       "[0.891981179297227,\n",
       " 0.8917932826869253,\n",
       " 0.891962056914628,\n",
       " 0.8921656686626747,\n",
       " 0.8922624389271113,\n",
       " 0.8923813800329292,\n",
       " 0.8918407017893635,\n",
       " 0.8917422958013363,\n",
       " 0.8915951287682172,\n",
       " 0.8915277916375611]"
      ]
     },
     "execution_count": 87,
     "metadata": {},
     "output_type": "execute_result"
    }
   ],
   "source": [
    "precission"
   ]
  },
  {
   "cell_type": "code",
   "execution_count": 88,
   "metadata": {
    "collapsed": false
   },
   "outputs": [
    {
     "data": {
      "text/plain": [
       "[0.8013670908845618,\n",
       " 0.8024014030669605,\n",
       " 0.8034357152493592,\n",
       " 0.8040203264828889,\n",
       " 0.804829788190853,\n",
       " 0.8043351171470972,\n",
       " 0.8046499078113055,\n",
       " 0.8042002068624364,\n",
       " 0.8033457750595854,\n",
       " 0.803525655439133]"
      ]
     },
     "execution_count": 88,
     "metadata": {},
     "output_type": "execute_result"
    }
   ],
   "source": [
    "recall"
   ]
  }
 ],
 "metadata": {
  "anaconda-cloud": {},
  "kernelspec": {
   "display_name": "Python [default]",
   "language": "python",
   "name": "python3"
  },
  "language_info": {
   "codemirror_mode": {
    "name": "ipython",
    "version": 3
   },
   "file_extension": ".py",
   "mimetype": "text/x-python",
   "name": "python",
   "nbconvert_exporter": "python",
   "pygments_lexer": "ipython3",
   "version": "3.5.2"
  }
 },
 "nbformat": 4,
 "nbformat_minor": 1
}
