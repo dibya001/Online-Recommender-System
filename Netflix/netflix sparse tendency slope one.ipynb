{
 "cells": [
  {
   "cell_type": "code",
   "execution_count": 140,
   "metadata": {
    "collapsed": true
   },
   "outputs": [],
   "source": [
    "import pandas as pd\n",
    "import numpy as np\n",
    "import matplotlib.pyplot as plt\n",
    "%matplotlib inline"
   ]
  },
  {
   "cell_type": "code",
   "execution_count": 141,
   "metadata": {
    "collapsed": false
   },
   "outputs": [],
   "source": [
    "train=pd.read_csv('f:/nettrainsparse.csv',usecols=[1,2,3])\n",
    "test=pd.read_csv('f:/nettestsparse.csv',usecols=[1,2,3])"
   ]
  },
  {
   "cell_type": "code",
   "execution_count": 142,
   "metadata": {
    "collapsed": true
   },
   "outputs": [],
   "source": [
    "import time"
   ]
  },
  {
   "cell_type": "code",
   "execution_count": 143,
   "metadata": {
    "collapsed": true
   },
   "outputs": [],
   "source": [
    "no_movies = 9318\n",
    "no_users = 8141"
   ]
  },
  {
   "cell_type": "code",
   "execution_count": 144,
   "metadata": {
    "collapsed": true
   },
   "outputs": [],
   "source": [
    "import math"
   ]
  },
  {
   "cell_type": "code",
   "execution_count": 145,
   "metadata": {
    "collapsed": true
   },
   "outputs": [],
   "source": [
    "rated= [set() for i in range(no_movies) ]\n",
    "dictionary={}"
   ]
  },
  {
   "cell_type": "code",
   "execution_count": 146,
   "metadata": {
    "collapsed": true
   },
   "outputs": [],
   "source": [
    "movies_mean=np.zeros(shape=[no_movies,3])"
   ]
  },
  {
   "cell_type": "code",
   "execution_count": 147,
   "metadata": {
    "collapsed": true
   },
   "outputs": [],
   "source": [
    "user_total=np.zeros(no_users)\n",
    "cnt=np.zeros(no_users,dtype='int64')\n",
    "for i, row in enumerate(train.itertuples(), 1):\n",
    "    p=int(row.itemId)\n",
    "    movies_mean[p][0]+=1\n",
    "    movies_mean[p][1]+=row.rating\n",
    "    k=int(row.userId)\n",
    "    cnt[k]+=1\n",
    "    user_total[k]+=row.rating"
   ]
  },
  {
   "cell_type": "code",
   "execution_count": 148,
   "metadata": {
    "collapsed": false
   },
   "outputs": [],
   "source": [
    "user_mean=np.array([ i/j for i,j in zip(user_total,cnt) ])\n",
    "for x in movies_mean:\n",
    "    x[2]=round(x[1]/x[0],2)\n",
    "    \n",
    "for x in movies_mean:\n",
    "    if math.isnan(x[2]):\n",
    "        x[2]=0\n"
   ]
  },
  {
   "cell_type": "code",
   "execution_count": 149,
   "metadata": {
    "collapsed": true
   },
   "outputs": [],
   "source": [
    "import math"
   ]
  },
  {
   "cell_type": "code",
   "execution_count": 150,
   "metadata": {
    "collapsed": false
   },
   "outputs": [],
   "source": [
    "for i in range(len(user_mean)):\n",
    "    if math.isnan(user_mean[i]):\n",
    "        user_mean[i]=0"
   ]
  },
  {
   "cell_type": "code",
   "execution_count": 151,
   "metadata": {
    "collapsed": false
   },
   "outputs": [],
   "source": [
    "foruser=np.zeros(no_users)\n",
    "formovies=np.zeros(no_movies)\n",
    "for i, row in enumerate(train.itertuples(), 1):\n",
    "    mov=int(row.itemId)\n",
    "    usr=int(row.userId)\n",
    "    foruser[usr]+=movies_mean[mov][2]\n",
    "    formovies[mov]+=user_mean[usr]"
   ]
  },
  {
   "cell_type": "code",
   "execution_count": 152,
   "metadata": {
    "collapsed": true
   },
   "outputs": [],
   "source": [
    "deviation=np.zeros(no_movies*no_movies).reshape(no_movies,no_movies)\n",
    "cardinality=np.zeros(no_movies*no_movies).reshape(no_movies,no_movies)"
   ]
  },
  {
   "cell_type": "code",
   "execution_count": 153,
   "metadata": {
    "collapsed": true
   },
   "outputs": [],
   "source": [
    "tendency=np.zeros(no_movies)"
   ]
  },
  {
   "cell_type": "code",
   "execution_count": 154,
   "metadata": {
    "collapsed": true
   },
   "outputs": [],
   "source": [
    "for i in range(no_movies):\n",
    "    if movies_mean[i][0]!=0:\n",
    "        tendency[i]=(movies_mean[i][1]-formovies[i])/(movies_mean[i][0])"
   ]
  },
  {
   "cell_type": "code",
   "execution_count": 155,
   "metadata": {
    "collapsed": false
   },
   "outputs": [],
   "source": [
    "rmse_normal=0\n",
    "mae_normal=0\n",
    "gim=0\n",
    "gpim=0\n",
    "tp=0\n",
    "fp=0\n",
    "tn=0\n",
    "fn=0\n",
    "c_gim=0\n",
    "c_gpim=0\n",
    "for i, row in enumerate(test.itertuples(), 1):\n",
    "    usr=int(row.userId)\n",
    "    mov=int(row.itemId)\n",
    "    actual=row.rating\n",
    "    pred=0\n",
    "    list_of_all_movies_rate_by_the_current_user=train[train['userId']==usr]\n",
    "    length=list_of_all_movies_rate_by_the_current_user.shape[0]\n",
    "    cnt=0\n",
    "    for j,r2 in enumerate(list_of_all_movies_rate_by_the_current_user.itertuples(),1):\n",
    "        curmov=r2.itemId\n",
    "        currate=r2.rating\n",
    "        pred+=(currate+tendency[mov]-tendency[curmov])\n",
    "        cnt+=1\n",
    "    if cnt!=0:\n",
    "        predicted_normal=(pred/cnt)\n",
    "    else:\n",
    "        predicted_normal=0\n",
    "    if predicted_normal>5:\n",
    "        predicted_normal=5\n",
    "    if predicted_normal<0:\n",
    "        predicted_normal=0\n",
    "    if actual >=3:\n",
    "        gim+=abs(actual-predicted_normal)\n",
    "        c_gim+=1\n",
    "    if predicted_normal >=3:\n",
    "        gpim+=abs(actual-predicted_normal)\n",
    "        c_gpim+=1\n",
    "    \n",
    "    if actual>=3 and predicted_normal>=3:\n",
    "        tp+=1\n",
    "    elif actual<3 and predicted_normal>=3:\n",
    "        fp+=1\n",
    "    elif actual>=3 and predicted_normal<3:\n",
    "        fn+=1\n",
    "    else:\n",
    "        tn+=1\n",
    "    \n",
    "    rmse_normal+=((actual-predicted_normal)**2)\n",
    "    mae_normal+=abs(actual-predicted_normal)\n",
    "    "
   ]
  },
  {
   "cell_type": "code",
   "execution_count": 156,
   "metadata": {
    "collapsed": false
   },
   "outputs": [],
   "source": [
    "index=test['userId'].count()"
   ]
  },
  {
   "cell_type": "code",
   "execution_count": 157,
   "metadata": {
    "collapsed": false
   },
   "outputs": [
    {
     "name": "stdout",
     "output_type": "stream",
     "text": [
      "0.734152357078\n"
     ]
    }
   ],
   "source": [
    "print(mae_normal/index)"
   ]
  },
  {
   "cell_type": "code",
   "execution_count": 158,
   "metadata": {
    "collapsed": false
   },
   "outputs": [
    {
     "name": "stdout",
     "output_type": "stream",
     "text": [
      "0.9348555757305614\n"
     ]
    }
   ],
   "source": [
    "print(math.sqrt(rmse_normal/index))"
   ]
  },
  {
   "cell_type": "code",
   "execution_count": 159,
   "metadata": {
    "collapsed": false
   },
   "outputs": [
    {
     "data": {
      "text/plain": [
       "0.60478982416324356"
      ]
     },
     "execution_count": 159,
     "metadata": {},
     "output_type": "execute_result"
    }
   ],
   "source": [
    "gim/c_gim"
   ]
  },
  {
   "cell_type": "code",
   "execution_count": 160,
   "metadata": {
    "collapsed": false
   },
   "outputs": [
    {
     "data": {
      "text/plain": [
       "0.72502086563997215"
      ]
     },
     "execution_count": 160,
     "metadata": {},
     "output_type": "execute_result"
    }
   ],
   "source": [
    "gpim/c_gpim"
   ]
  },
  {
   "cell_type": "code",
   "execution_count": 161,
   "metadata": {
    "collapsed": false
   },
   "outputs": [
    {
     "data": {
      "text/plain": [
       "0.8926521568499198"
      ]
     },
     "execution_count": 161,
     "metadata": {},
     "output_type": "execute_result"
    }
   ],
   "source": [
    "tp/(tp+fp)"
   ]
  },
  {
   "cell_type": "code",
   "execution_count": 162,
   "metadata": {
    "collapsed": false
   },
   "outputs": [
    {
     "data": {
      "text/plain": [
       "0.9096464844238188"
      ]
     },
     "execution_count": 162,
     "metadata": {},
     "output_type": "execute_result"
    }
   ],
   "source": [
    "tp/(tp+fn)"
   ]
  },
  {
   "cell_type": "code",
   "execution_count": null,
   "metadata": {
    "collapsed": true
   },
   "outputs": [],
   "source": []
  }
 ],
 "metadata": {
  "anaconda-cloud": {},
  "kernelspec": {
   "display_name": "Python [default]",
   "language": "python",
   "name": "python3"
  },
  "language_info": {
   "codemirror_mode": {
    "name": "ipython",
    "version": 3
   },
   "file_extension": ".py",
   "mimetype": "text/x-python",
   "name": "python",
   "nbconvert_exporter": "python",
   "pygments_lexer": "ipython3",
   "version": "3.5.2"
  }
 },
 "nbformat": 4,
 "nbformat_minor": 1
}
