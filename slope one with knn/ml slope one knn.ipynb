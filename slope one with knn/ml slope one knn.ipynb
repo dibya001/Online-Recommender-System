{
 "cells": [
  {
   "cell_type": "code",
   "execution_count": 10,
   "metadata": {
    "collapsed": true
   },
   "outputs": [],
   "source": [
    "import pandas as pd\n",
    "import numpy as np\n",
    "import matplotlib.pyplot as plt\n",
    "%matplotlib inline\n",
    "from scipy import spatial\n",
    "import math\n",
    "from numpy import linalg as LA"
   ]
  },
  {
   "cell_type": "code",
   "execution_count": 11,
   "metadata": {
    "collapsed": false
   },
   "outputs": [],
   "source": [
    "train=pd.read_csv('f:/ml_d2train.csv',usecols=[1,2,3])\n",
    "test=pd.read_csv('f:/ml_d2test.csv',usecols=[1,2,3])"
   ]
  },
  {
   "cell_type": "code",
   "execution_count": 12,
   "metadata": {
    "collapsed": false
   },
   "outputs": [
    {
     "data": {
      "text/html": [
       "<div>\n",
       "<table border=\"1\" class=\"dataframe\">\n",
       "  <thead>\n",
       "    <tr style=\"text-align: right;\">\n",
       "      <th></th>\n",
       "      <th>userId</th>\n",
       "      <th>movieId</th>\n",
       "      <th>rating</th>\n",
       "    </tr>\n",
       "  </thead>\n",
       "  <tbody>\n",
       "    <tr>\n",
       "      <th>0</th>\n",
       "      <td>3989</td>\n",
       "      <td>186</td>\n",
       "      <td>2</td>\n",
       "    </tr>\n",
       "    <tr>\n",
       "      <th>1</th>\n",
       "      <td>4328</td>\n",
       "      <td>170</td>\n",
       "      <td>1</td>\n",
       "    </tr>\n",
       "    <tr>\n",
       "      <th>2</th>\n",
       "      <td>3333</td>\n",
       "      <td>2598</td>\n",
       "      <td>4</td>\n",
       "    </tr>\n",
       "    <tr>\n",
       "      <th>3</th>\n",
       "      <td>3550</td>\n",
       "      <td>1289</td>\n",
       "      <td>5</td>\n",
       "    </tr>\n",
       "    <tr>\n",
       "      <th>4</th>\n",
       "      <td>1019</td>\n",
       "      <td>3475</td>\n",
       "      <td>2</td>\n",
       "    </tr>\n",
       "  </tbody>\n",
       "</table>\n",
       "</div>"
      ],
      "text/plain": [
       "   userId  movieId  rating\n",
       "0    3989      186       2\n",
       "1    4328      170       1\n",
       "2    3333     2598       4\n",
       "3    3550     1289       5\n",
       "4    1019     3475       2"
      ]
     },
     "execution_count": 12,
     "metadata": {},
     "output_type": "execute_result"
    }
   ],
   "source": [
    "train.head()"
   ]
  },
  {
   "cell_type": "code",
   "execution_count": 13,
   "metadata": {
    "collapsed": false
   },
   "outputs": [
    {
     "data": {
      "text/html": [
       "<div>\n",
       "<table border=\"1\" class=\"dataframe\">\n",
       "  <thead>\n",
       "    <tr style=\"text-align: right;\">\n",
       "      <th></th>\n",
       "      <th>userId</th>\n",
       "      <th>movieId</th>\n",
       "      <th>rating</th>\n",
       "    </tr>\n",
       "  </thead>\n",
       "  <tbody>\n",
       "    <tr>\n",
       "      <th>count</th>\n",
       "      <td>472801.000000</td>\n",
       "      <td>472801.000000</td>\n",
       "      <td>472801.000000</td>\n",
       "    </tr>\n",
       "    <tr>\n",
       "      <th>mean</th>\n",
       "      <td>3035.887604</td>\n",
       "      <td>1839.650170</td>\n",
       "      <td>3.590663</td>\n",
       "    </tr>\n",
       "    <tr>\n",
       "      <th>std</th>\n",
       "      <td>1727.634976</td>\n",
       "      <td>1081.972551</td>\n",
       "      <td>1.098759</td>\n",
       "    </tr>\n",
       "    <tr>\n",
       "      <th>min</th>\n",
       "      <td>2.000000</td>\n",
       "      <td>1.000000</td>\n",
       "      <td>1.000000</td>\n",
       "    </tr>\n",
       "    <tr>\n",
       "      <th>25%</th>\n",
       "      <td>1516.000000</td>\n",
       "      <td>1029.000000</td>\n",
       "      <td>3.000000</td>\n",
       "    </tr>\n",
       "    <tr>\n",
       "      <th>50%</th>\n",
       "      <td>3108.000000</td>\n",
       "      <td>1777.000000</td>\n",
       "      <td>4.000000</td>\n",
       "    </tr>\n",
       "    <tr>\n",
       "      <th>75%</th>\n",
       "      <td>4480.000000</td>\n",
       "      <td>2724.000000</td>\n",
       "      <td>4.000000</td>\n",
       "    </tr>\n",
       "    <tr>\n",
       "      <th>max</th>\n",
       "      <td>6040.000000</td>\n",
       "      <td>3952.000000</td>\n",
       "      <td>5.000000</td>\n",
       "    </tr>\n",
       "  </tbody>\n",
       "</table>\n",
       "</div>"
      ],
      "text/plain": [
       "              userId        movieId         rating\n",
       "count  472801.000000  472801.000000  472801.000000\n",
       "mean     3035.887604    1839.650170       3.590663\n",
       "std      1727.634976    1081.972551       1.098759\n",
       "min         2.000000       1.000000       1.000000\n",
       "25%      1516.000000    1029.000000       3.000000\n",
       "50%      3108.000000    1777.000000       4.000000\n",
       "75%      4480.000000    2724.000000       4.000000\n",
       "max      6040.000000    3952.000000       5.000000"
      ]
     },
     "execution_count": 13,
     "metadata": {},
     "output_type": "execute_result"
    }
   ],
   "source": [
    "train.describe()"
   ]
  },
  {
   "cell_type": "code",
   "execution_count": 14,
   "metadata": {
    "collapsed": false
   },
   "outputs": [],
   "source": [
    "no_movies=max(train['movieId'])+1\n",
    "no_users=max(train['userId'])+1"
   ]
  },
  {
   "cell_type": "code",
   "execution_count": 15,
   "metadata": {
    "collapsed": true
   },
   "outputs": [],
   "source": [
    "rated= [set() for i in range(no_movies) ]\n",
    "userrated=[[] for i in range(no_users) ]\n",
    "dictionary={}"
   ]
  },
  {
   "cell_type": "code",
   "execution_count": 16,
   "metadata": {
    "collapsed": true
   },
   "outputs": [],
   "source": [
    "deviation=np.zeros(no_movies*no_movies).reshape(no_movies,no_movies)\n",
    "cardinality=np.zeros(no_movies*no_movies).reshape(no_movies,no_movies)\n",
    "jaccard=np.zeros(no_movies*no_movies).reshape(no_movies,no_movies)\n"
   ]
  },
  {
   "cell_type": "code",
   "execution_count": 17,
   "metadata": {
    "collapsed": true
   },
   "outputs": [],
   "source": [
    "user_mean=np.zeros(shape=[no_users,3])"
   ]
  },
  {
   "cell_type": "code",
   "execution_count": null,
   "metadata": {
    "collapsed": true
   },
   "outputs": [],
   "source": []
  },
  {
   "cell_type": "code",
   "execution_count": 18,
   "metadata": {
    "collapsed": false
   },
   "outputs": [],
   "source": [
    "for ind,i in enumerate(train.itertuples(),1):\n",
    "    usr=int(i.userId)\n",
    "    mov=int(i.movieId)\n",
    "    rate=(i.rating)\n",
    "    \n",
    "    rated[mov].add(usr)\n",
    "    userrated[usr].append(mov)\n",
    "    dictionary[(usr,mov)]=rate\n",
    "    user_mean[usr][0]+=1\n",
    "    user_mean[usr][1]+=i.rating"
   ]
  },
  {
   "cell_type": "code",
   "execution_count": 19,
   "metadata": {
    "collapsed": false
   },
   "outputs": [],
   "source": [
    "for x in user_mean:\n",
    "    x[2]=round(x[1]/x[0],2)\n",
    "    \n",
    "for x in user_mean:\n",
    "    if math.isnan(x[2]):\n",
    "        x[2]=0\n"
   ]
  },
  {
   "cell_type": "code",
   "execution_count": 20,
   "metadata": {
    "collapsed": false
   },
   "outputs": [],
   "source": [
    "mv=train['movieId'].unique()\n"
   ]
  },
  {
   "cell_type": "code",
   "execution_count": 21,
   "metadata": {
    "collapsed": true
   },
   "outputs": [],
   "source": [
    "import time"
   ]
  },
  {
   "cell_type": "code",
   "execution_count": 22,
   "metadata": {
    "collapsed": false
   },
   "outputs": [
    {
     "name": "stdout",
     "output_type": "stream",
     "text": [
      "956.6008822917938\n"
     ]
    }
   ],
   "source": [
    "t1=time.time()\n",
    "for i in range(no_movies):\n",
    "    for j in range(i+1,no_movies):\n",
    "        if i in mv and j in mv:\n",
    "            tmprate = list(rated[i].intersection(rated[j]))\n",
    "            x1=np.array([dictionary[(uid,j)]-user_mean[uid][2] for uid in tmprate])      \n",
    "            x2=np.array([ dictionary[(uid,i)]-user_mean[uid][2] for uid in tmprate])\n",
    "            arr=np.array([(dictionary[(uid,j)]-dictionary[(uid,i)])  for uid in tmprate])\n",
    "            uoutput=sum(arr)\n",
    "            c=len(arr)\n",
    "            deviation[i][j]=uoutput\n",
    "            deviation[j][i]=-uoutput\n",
    "            cardinality[i][j]=c\n",
    "            cardinality[j][i]=c\n",
    "            if len(x1) !=0 and len(x2)!=0:\n",
    "                v1=LA.norm(x1)\n",
    "                v2=LA.norm(x2)\n",
    "                v3=np.dot(x1,x2)\n",
    "                jaccard[i][j]=(v3/(v1*v2))\n",
    "            jaccard[j][i]=jaccard[i][j]\n",
    "print(time.time()-t1)   "
   ]
  },
  {
   "cell_type": "code",
   "execution_count": 23,
   "metadata": {
    "collapsed": false
   },
   "outputs": [
    {
     "data": {
      "text/html": [
       "<div>\n",
       "<table border=\"1\" class=\"dataframe\">\n",
       "  <thead>\n",
       "    <tr style=\"text-align: right;\">\n",
       "      <th></th>\n",
       "      <th>userId</th>\n",
       "      <th>movieId</th>\n",
       "      <th>rating</th>\n",
       "    </tr>\n",
       "  </thead>\n",
       "  <tbody>\n",
       "    <tr>\n",
       "      <th>0</th>\n",
       "      <td>224</td>\n",
       "      <td>953</td>\n",
       "      <td>2</td>\n",
       "    </tr>\n",
       "    <tr>\n",
       "      <th>1</th>\n",
       "      <td>2810</td>\n",
       "      <td>1035</td>\n",
       "      <td>5</td>\n",
       "    </tr>\n",
       "    <tr>\n",
       "      <th>2</th>\n",
       "      <td>3841</td>\n",
       "      <td>2365</td>\n",
       "      <td>3</td>\n",
       "    </tr>\n",
       "    <tr>\n",
       "      <th>3</th>\n",
       "      <td>5676</td>\n",
       "      <td>186</td>\n",
       "      <td>1</td>\n",
       "    </tr>\n",
       "    <tr>\n",
       "      <th>4</th>\n",
       "      <td>1597</td>\n",
       "      <td>223</td>\n",
       "      <td>2</td>\n",
       "    </tr>\n",
       "  </tbody>\n",
       "</table>\n",
       "</div>"
      ],
      "text/plain": [
       "   userId  movieId  rating\n",
       "0     224      953       2\n",
       "1    2810     1035       5\n",
       "2    3841     2365       3\n",
       "3    5676      186       1\n",
       "4    1597      223       2"
      ]
     },
     "execution_count": 23,
     "metadata": {},
     "output_type": "execute_result"
    }
   ],
   "source": [
    "test.head()"
   ]
  },
  {
   "cell_type": "code",
   "execution_count": 24,
   "metadata": {
    "collapsed": true
   },
   "outputs": [],
   "source": [
    "import math"
   ]
  },
  {
   "cell_type": "code",
   "execution_count": 25,
   "metadata": {
    "collapsed": false
   },
   "outputs": [
    {
     "data": {
      "text/html": [
       "<div>\n",
       "<table border=\"1\" class=\"dataframe\">\n",
       "  <thead>\n",
       "    <tr style=\"text-align: right;\">\n",
       "      <th></th>\n",
       "      <th>userId</th>\n",
       "      <th>movieId</th>\n",
       "      <th>rating</th>\n",
       "    </tr>\n",
       "  </thead>\n",
       "  <tbody>\n",
       "    <tr>\n",
       "      <th>count</th>\n",
       "      <td>313172.00000</td>\n",
       "      <td>313172.000000</td>\n",
       "      <td>313172.000000</td>\n",
       "    </tr>\n",
       "    <tr>\n",
       "      <th>mean</th>\n",
       "      <td>3035.74180</td>\n",
       "      <td>1839.428145</td>\n",
       "      <td>3.589992</td>\n",
       "    </tr>\n",
       "    <tr>\n",
       "      <th>std</th>\n",
       "      <td>1727.42927</td>\n",
       "      <td>1080.493807</td>\n",
       "      <td>1.099634</td>\n",
       "    </tr>\n",
       "    <tr>\n",
       "      <th>min</th>\n",
       "      <td>2.00000</td>\n",
       "      <td>1.000000</td>\n",
       "      <td>1.000000</td>\n",
       "    </tr>\n",
       "    <tr>\n",
       "      <th>25%</th>\n",
       "      <td>1516.00000</td>\n",
       "      <td>1030.000000</td>\n",
       "      <td>3.000000</td>\n",
       "    </tr>\n",
       "    <tr>\n",
       "      <th>50%</th>\n",
       "      <td>3108.00000</td>\n",
       "      <td>1777.000000</td>\n",
       "      <td>4.000000</td>\n",
       "    </tr>\n",
       "    <tr>\n",
       "      <th>75%</th>\n",
       "      <td>4480.00000</td>\n",
       "      <td>2722.000000</td>\n",
       "      <td>4.000000</td>\n",
       "    </tr>\n",
       "    <tr>\n",
       "      <th>max</th>\n",
       "      <td>6040.00000</td>\n",
       "      <td>3952.000000</td>\n",
       "      <td>5.000000</td>\n",
       "    </tr>\n",
       "  </tbody>\n",
       "</table>\n",
       "</div>"
      ],
      "text/plain": [
       "             userId        movieId         rating\n",
       "count  313172.00000  313172.000000  313172.000000\n",
       "mean     3035.74180    1839.428145       3.589992\n",
       "std      1727.42927    1080.493807       1.099634\n",
       "min         2.00000       1.000000       1.000000\n",
       "25%      1516.00000    1030.000000       3.000000\n",
       "50%      3108.00000    1777.000000       4.000000\n",
       "75%      4480.00000    2722.000000       4.000000\n",
       "max      6040.00000    3952.000000       5.000000"
      ]
     },
     "execution_count": 25,
     "metadata": {},
     "output_type": "execute_result"
    }
   ],
   "source": [
    "test.describe()"
   ]
  },
  {
   "cell_type": "code",
   "execution_count": 26,
   "metadata": {
    "collapsed": true
   },
   "outputs": [],
   "source": [
    "d2=np.asarray(test)"
   ]
  },
  {
   "cell_type": "markdown",
   "metadata": {},
   "source": [
    "KNN Based Approach"
   ]
  },
  {
   "cell_type": "code",
   "execution_count": 27,
   "metadata": {
    "collapsed": false
   },
   "outputs": [
    {
     "name": "stdout",
     "output_type": "stream",
     "text": [
      "9335.757680416107\n"
     ]
    }
   ],
   "source": [
    "t1=time.time()\n",
    "K=[i for i in range(1,101) ]\n",
    "thres1=55\n",
    "thres2=40\n",
    "thres3=25\n",
    "thres4=10\n",
    "thres5=1\n",
    "rmse1=[0 for i in range(1,101)]\n",
    "mae1=[0 for i in range(1,101)]\n",
    "rmse2=[0 for i in range(1,101)]\n",
    "mae2=[0 for i in range(1,101)]\n",
    "rmse3=[0 for i in range(1,101)]\n",
    "mae3=[0 for i in range(1,101)]\n",
    "rmse4=[0 for i in range(1,101)]\n",
    "mae4=[0 for i in range(1,101)]\n",
    "rmse5=[0 for i in range(1,101)]\n",
    "mae5=[0 for i in range(1,101)]\n",
    "gim1=[0 for i in range(1,101)]\n",
    "gpim1=[0 for i in range(1,101)]\n",
    "gim2=[0 for i in range(1,101)]\n",
    "gpim2=[0 for i in range(1,101)]\n",
    "gim3=[0 for i in range(1,101)]\n",
    "gpim3=[0 for i in range(1,101)]\n",
    "gim4=[0 for i in range(1,101)]\n",
    "gpim4=[0 for i in range(1,101)]\n",
    "gim5=[0 for i in range(1,101)]\n",
    "gpim5=[0 for i in range(1,101)]\n",
    "c_gim1=[0 for i in range(1,101)]\n",
    "c_gpim1=[0 for i in range(1,101)]\n",
    "c_gim2=[0 for i in range(1,101)]\n",
    "c_gpim2=[0 for i in range(1,101)]\n",
    "c_gim3=[0 for i in range(1,101)]\n",
    "c_gpim3=[0 for i in range(1,101)]\n",
    "c_gim4=[0 for i in range(1,101)]\n",
    "c_gpim4=[0 for i in range(1,101)]\n",
    "c_gim5=[0 for i in range(1,101)]\n",
    "c_gpim5=[0 for i in range(1,101)]\n",
    "tp1=[0 for i in range(1,101)]\n",
    "fp1=[0 for i in range(1,101)]\n",
    "tn1=[0 for i in range(1,101)]\n",
    "fn1=[0 for i in range(1,101)]\n",
    "tp2=[0 for i in range(1,101)]\n",
    "fp2=[0 for i in range(1,101)]\n",
    "tn2=[0 for i in range(1,101)]\n",
    "fn2=[0 for i in range(1,101)]\n",
    "tp3=[0 for i in range(1,101)]\n",
    "fp3=[0 for i in range(1,101)]\n",
    "tn3=[0 for i in range(1,101)]\n",
    "fn3=[0 for i in range(1,101)]\n",
    "tp4=[0 for i in range(1,101)]\n",
    "fp4=[0 for i in range(1,101)]\n",
    "tn4=[0 for i in range(1,101)]\n",
    "fn4=[0 for i in range(1,101)]\n",
    "tp5=[0 for i in range(1,101)]\n",
    "fp5=[0 for i in range(1,101)]\n",
    "tn5=[0 for i in range(1,101)]\n",
    "fn5=[0 for i in range(1,101)]\n",
    "\n",
    "\n",
    "for i in range(d2.shape[0]):\n",
    "    usr=int(d2[i][0])\n",
    "    mov=int(d2[i][1])\n",
    "    actual=d2[i][2]\n",
    "    predicted1=0\n",
    "    predicted2=0\n",
    "    predicted3=0\n",
    "    predicted4=0\n",
    "    predicted5=0\n",
    "    list_of_all_movies_rate_by_the_current_user=np.array(userrated[usr])\n",
    "    \n",
    "    dev_arr1=np.array([(deviation[k][mov]/ cardinality[k][mov]) for k in list_of_all_movies_rate_by_the_current_user \n",
    "             if cardinality[k][mov]>=thres1])\n",
    "    \n",
    "    corres_rate1=np.array([dictionary[(usr,k)]  for k in list_of_all_movies_rate_by_the_current_user \n",
    "             if cardinality[k][mov]>=thres1])\n",
    "    j_arr1=np.array([jaccard[k][mov] for k in list_of_all_movies_rate_by_the_current_user \n",
    "             if cardinality[k][mov]>=thres1])\n",
    "    dev_arr2=np.array([(deviation[k][mov]/ cardinality[k][mov]) for k in list_of_all_movies_rate_by_the_current_user \n",
    "             if cardinality[k][mov]>=thres2])\n",
    "    \n",
    "    corres_rate2=np.array([dictionary[(usr,k)]  for k in list_of_all_movies_rate_by_the_current_user \n",
    "             if cardinality[k][mov]>=thres2])\n",
    "    j_arr2=np.array([jaccard[k][mov] for k in list_of_all_movies_rate_by_the_current_user \n",
    "             if cardinality[k][mov]>=thres2])\n",
    "    dev_arr3=np.array([(deviation[k][mov]/ cardinality[k][mov]) for k in list_of_all_movies_rate_by_the_current_user \n",
    "             if cardinality[k][mov]>=thres3])\n",
    "    \n",
    "    corres_rate3=np.array([dictionary[(usr,k)]  for k in list_of_all_movies_rate_by_the_current_user \n",
    "             if cardinality[k][mov]>=thres3])\n",
    "    j_arr3=np.array([jaccard[k][mov] for k in list_of_all_movies_rate_by_the_current_user \n",
    "             if cardinality[k][mov]>=thres3])\n",
    "    dev_arr4=np.array([(deviation[k][mov]/ cardinality[k][mov]) for k in list_of_all_movies_rate_by_the_current_user \n",
    "             if cardinality[k][mov]>=thres4])\n",
    "    \n",
    "    corres_rate4=np.array([dictionary[(usr,k)]  for k in list_of_all_movies_rate_by_the_current_user \n",
    "             if cardinality[k][mov]>=thres4])\n",
    "    j_arr4=np.array([jaccard[k][mov] for k in list_of_all_movies_rate_by_the_current_user \n",
    "             if cardinality[k][mov]>=thres4])\n",
    "    dev_arr5=np.array([(deviation[k][mov]/ cardinality[k][mov]) for k in list_of_all_movies_rate_by_the_current_user \n",
    "             if cardinality[k][mov]>=thres5])\n",
    "    \n",
    "    corres_rate5=np.array([dictionary[(usr,k)]  for k in list_of_all_movies_rate_by_the_current_user \n",
    "             if cardinality[k][mov]>=thres5])\n",
    "    j_arr5=np.array([jaccard[k][mov] for k in list_of_all_movies_rate_by_the_current_user \n",
    "             if cardinality[k][mov]>=thres5])\n",
    "        \n",
    "    #choosing top k\n",
    "    in1=j_arr1.argsort()[::-1]\n",
    "    new_rate1=corres_rate1[in1]\n",
    "    new_dev1=dev_arr1[in1]\n",
    "    \n",
    "    in2=j_arr2.argsort()[::-1]\n",
    "    new_rate2=corres_rate2[in2]\n",
    "    new_dev2=dev_arr2[in2]\n",
    "    \n",
    "    in3=j_arr3.argsort()[::-1]\n",
    "    new_rate3=corres_rate3[in3]\n",
    "    new_dev3=dev_arr3[in3]\n",
    "    \n",
    "    in4=j_arr4.argsort()[::-1]\n",
    "    new_rate4=corres_rate4[in4]\n",
    "    new_dev4=dev_arr4[in4]\n",
    "    \n",
    "    in5=j_arr5.argsort()[::-1]\n",
    "    new_rate5=corres_rate5[in5]\n",
    "    new_dev5=dev_arr5[in5]\n",
    "    \n",
    "    #not necessary\n",
    "    #j_arr.sort(reverse=True)\n",
    "    \n",
    "    \n",
    "    for k in K:\n",
    "        \n",
    "        n_r1=new_rate1[:k]\n",
    "        dev_1=new_dev1[:k] \n",
    "        n_r2=new_rate2[:k]\n",
    "        dev_2=new_dev2[:k]\n",
    "        n_r3=new_rate3[:k]\n",
    "        dev_3=new_dev3[:k]\n",
    "        n_r4=new_rate4[:k]\n",
    "        dev_4=new_dev4[:k]\n",
    "        n_r5=new_rate5[:k]\n",
    "        dev_5=new_dev5[:k]\n",
    "        \n",
    "        length1=len(dev_1)\n",
    "        length2=len(dev_2)\n",
    "        length3=len(dev_3)\n",
    "        length4=len(dev_4)\n",
    "        length5=len(dev_5)\n",
    "\n",
    "    \n",
    "        #rating prediction\n",
    "        rating1=sum(dev_1)+sum(n_r1)\n",
    "        rating2=sum(dev_2)+sum(n_r2)\n",
    "        rating3=sum(dev_3)+sum(n_r3)\n",
    "        rating4=sum(dev_4)+sum(n_r4)\n",
    "        rating5=sum(dev_5)+sum(n_r5)\n",
    "        \n",
    "        if length1!=0:\n",
    "            predicted1=(rating1/length1)\n",
    "        else:\n",
    "            predicted1=0\n",
    "    \n",
    "        if predicted1>5:\n",
    "            predicted1=5\n",
    "        \n",
    "        if predicted1 <0:\n",
    "            predicted1=0\n",
    "        \n",
    "        \n",
    "        if length2!=0:\n",
    "            predicted2=(rating2/length2)\n",
    "        else:\n",
    "            predicted2=0\n",
    "    \n",
    "        if predicted2>5:\n",
    "            predicted2=5\n",
    "        \n",
    "        if predicted2 <0:\n",
    "            predicted2=0\n",
    "            \n",
    "        if length3!=0:\n",
    "            predicted3=(rating3/length3)\n",
    "        else:\n",
    "            predicted3=0\n",
    "    \n",
    "        if predicted3>5:\n",
    "            predicted3=5\n",
    "        \n",
    "        if predicted3 <0:\n",
    "            predicted3=0\n",
    "            \n",
    "        if length4!=0:\n",
    "            predicted4=(rating4/length4)\n",
    "        else:\n",
    "            predicted4=0\n",
    "    \n",
    "        if predicted4>5:\n",
    "            predicted4=5\n",
    "        \n",
    "        if predicted4 <0:\n",
    "            predicted4=0\n",
    "            \n",
    "        if length5!=0:\n",
    "            predicted5=(rating5/length5)\n",
    "        else:\n",
    "            predicted5=0\n",
    "    \n",
    "        if predicted5>5:\n",
    "            predicted5=5\n",
    "        \n",
    "        if predicted5 <0:\n",
    "            predicted5=0\n",
    "            \n",
    "        if actual >=3:\n",
    "            gim1[k-1]+=abs(actual-predicted1)\n",
    "            c_gim1[k-1]+=1\n",
    "        if predicted1 >=3:\n",
    "            gpim1[k-1]+=abs(actual-predicted1)\n",
    "            c_gpim1[k-1]+=1\n",
    "        if actual >=3:\n",
    "            gim2[k-1]+=abs(actual-predicted2)\n",
    "            c_gim2[k-1]+=1\n",
    "        if predicted2 >=3:\n",
    "            gpim2[k-1]+=abs(actual-predicted2)\n",
    "            c_gpim2[k-1]+=1\n",
    "        if actual >=3:\n",
    "            gim3[k-1]+=abs(actual-predicted3)\n",
    "            c_gim3[k-1]+=1\n",
    "        if predicted3 >=3:\n",
    "            gpim3[k-1]+=abs(actual-predicted3)\n",
    "            c_gpim3[k-1]+=1\n",
    "        if actual >=3:\n",
    "            gim4[k-1]+=abs(actual-predicted4)\n",
    "            c_gim4[k-1]+=1\n",
    "        if predicted4 >=3:\n",
    "            gpim4[k-1]+=abs(actual-predicted4)\n",
    "            c_gpim4[k-1]+=1\n",
    "        if actual >=3:\n",
    "            gim5[k-1]+=abs(actual-predicted5)\n",
    "            c_gim5[k-1]+=1\n",
    "        if predicted5 >=3:\n",
    "            gpim5[k-1]+=abs(actual-predicted5)\n",
    "            c_gpim5[k-1]+=1\n",
    "    \n",
    "        if actual>=3 and predicted1>=3:\n",
    "            tp1[k-1]+=1\n",
    "        elif actual<3 and predicted1>=3:\n",
    "            fp1[k-1]+=1\n",
    "        elif actual>=3 and predicted1<3:\n",
    "            fn1[k-1]+=1\n",
    "        elif  actual<3 and predicted1<3:\n",
    "            tn1[k-1]+=1\n",
    "        \n",
    "        \n",
    "        if actual>=3 and predicted2>=3:\n",
    "            tp2[k-1]+=1\n",
    "        elif actual<3 and predicted2>=3:\n",
    "            fp2[k-1]+=1\n",
    "        elif actual>=3 and predicted2<3:\n",
    "            fn2[k-1]+=1\n",
    "        elif  actual<3 and predicted2<3:\n",
    "            tn2[k-1]+=1\n",
    "        \n",
    "        \n",
    "        if actual>=3 and predicted3>=3:\n",
    "            tp3[k-1]+=1\n",
    "        elif actual<3 and predicted3>=3:\n",
    "            fp3[k-1]+=1\n",
    "        elif actual>=3 and predicted3<3:\n",
    "            fn3[k-1]+=1\n",
    "        elif  actual<3 and predicted3<3:\n",
    "            tn3[k-1]+=1\n",
    "            \n",
    "        \n",
    "        if actual>=3 and predicted4>=3:\n",
    "            tp4[k-1]+=1\n",
    "        elif actual<3 and predicted4>=3:\n",
    "            fp4[k-1]+=1\n",
    "        elif actual>=3 and predicted4<3:\n",
    "            fn4[k-1]+=1\n",
    "        elif  actual<3 and predicted4<3:\n",
    "            tn4[k-1]+=1\n",
    "            \n",
    "        \n",
    "        if actual>=3 and predicted5>=3:\n",
    "            tp5[k-1]+=1\n",
    "        elif actual<3 and predicted5>=3:\n",
    "            fp5[k-1]+=1\n",
    "        elif actual>=3 and predicted5<3:\n",
    "            fn5[k-1]+=1\n",
    "        elif  actual<3 and predicted5<3:\n",
    "            tn5[k-1]+=1\n",
    "        \n",
    "        rmse1[k-1]+=((actual-predicted1)**2)\n",
    "        mae1[k-1]+=abs(actual-predicted1)\n",
    "        rmse2[k-1]+=((actual-predicted2)**2)\n",
    "        mae2[k-1]+=abs(actual-predicted2)\n",
    "        rmse3[k-1]+=((actual-predicted3)**2)\n",
    "        mae3[k-1]+=abs(actual-predicted3)\n",
    "        rmse4[k-1]+=((actual-predicted4)**2)\n",
    "        mae4[k-1]+=abs(actual-predicted4)\n",
    "        rmse5[k-1]+=((actual-predicted5)**2)\n",
    "        mae5[k-1]+=abs(actual-predicted5)\n",
    "\n",
    "print(time.time()-t1)"
   ]
  },
  {
   "cell_type": "code",
   "execution_count": null,
   "metadata": {
    "collapsed": true
   },
   "outputs": [],
   "source": []
  },
  {
   "cell_type": "code",
   "execution_count": 28,
   "metadata": {
    "collapsed": true
   },
   "outputs": [],
   "source": [
    "index=d2.shape[0]"
   ]
  },
  {
   "cell_type": "code",
   "execution_count": 29,
   "metadata": {
    "collapsed": false
   },
   "outputs": [
    {
     "data": {
      "text/plain": [
       "313172"
      ]
     },
     "execution_count": 29,
     "metadata": {},
     "output_type": "execute_result"
    }
   ],
   "source": [
    "index"
   ]
  },
  {
   "cell_type": "code",
   "execution_count": 30,
   "metadata": {
    "collapsed": true
   },
   "outputs": [],
   "source": [
    "new_rmse1=[math.sqrt(i/index) for i in rmse1]\n",
    "new_rmse2=[math.sqrt(i/index) for i in rmse2]\n",
    "new_rmse3=[math.sqrt(i/index) for i in rmse3]\n",
    "new_rmse4=[math.sqrt(i/index) for i in rmse4]\n",
    "new_rmse5=[math.sqrt(i/index) for i in rmse5]"
   ]
  },
  {
   "cell_type": "code",
   "execution_count": 31,
   "metadata": {
    "collapsed": true
   },
   "outputs": [],
   "source": [
    "new_mae1=[i/index for i in mae1]\n",
    "new_mae2=[i/index for i in mae2]\n",
    "new_mae3=[i/index for i in mae3]\n",
    "new_mae4=[i/index for i in mae4]\n",
    "new_mae5=[i/index for i in mae5]"
   ]
  },
  {
   "cell_type": "code",
   "execution_count": 32,
   "metadata": {
    "collapsed": true
   },
   "outputs": [],
   "source": [
    "new_gim1=[i/j for i,j in zip(gim1,c_gim1)]\n",
    "new_gim2=[i/j for i,j in zip(gim2,c_gim2)]\n",
    "new_gim3=[i/j for i,j in zip(gim3,c_gim3)]\n",
    "new_gim4=[i/j for i,j in zip(gim4,c_gim4)]\n",
    "new_gim5=[i/j for i,j in zip(gim5,c_gim5)]"
   ]
  },
  {
   "cell_type": "code",
   "execution_count": 33,
   "metadata": {
    "collapsed": true
   },
   "outputs": [],
   "source": [
    "new_gpim1=[i/j for i,j in zip(gpim1,c_gpim1)]\n",
    "new_gpim2=[i/j for i,j in zip(gpim2,c_gpim2)]\n",
    "new_gpim3=[i/j for i,j in zip(gpim3,c_gpim3)]\n",
    "new_gpim4=[i/j for i,j in zip(gpim4,c_gpim4)]\n",
    "new_gpim5=[i/j for i,j in zip(gpim5,c_gpim5)]"
   ]
  },
  {
   "cell_type": "code",
   "execution_count": 34,
   "metadata": {
    "collapsed": false
   },
   "outputs": [],
   "source": [
    "pre1=[i/(i+k) for i,k in zip(tp1,fp1)]\n",
    "pre2=[i/(i+k) for i,k in zip(tp2,fp2)]\n",
    "pre3=[i/(i+k) for i,k in zip(tp3,fp3)]\n",
    "pre4=[i/(i+k) for i,k in zip(tp4,fp4)]\n",
    "pre5=[i/(i+k) for i,k in zip(tp5,fp5)]"
   ]
  },
  {
   "cell_type": "code",
   "execution_count": 35,
   "metadata": {
    "collapsed": true
   },
   "outputs": [],
   "source": [
    "re1=[i/(i+k) for i,k in zip(tp1,fn1)]\n",
    "re2=[i/(i+k) for i,k in zip(tp2,fn2)]\n",
    "re3=[i/(i+k) for i,k in zip(tp3,fn3)]\n",
    "re4=[i/(i+k) for i,k in zip(tp4,fn4)]\n",
    "re5=[i/(i+k) for i,k in zip(tp5,fn5)]"
   ]
  },
  {
   "cell_type": "code",
   "execution_count": null,
   "metadata": {
    "collapsed": true
   },
   "outputs": [],
   "source": []
  },
  {
   "cell_type": "code",
   "execution_count": 36,
   "metadata": {
    "collapsed": false
   },
   "outputs": [
    {
     "data": {
      "text/plain": [
       "1.18981871781542"
      ]
     },
     "execution_count": 36,
     "metadata": {},
     "output_type": "execute_result"
    }
   ],
   "source": [
    "min(new_rmse1)"
   ]
  },
  {
   "cell_type": "code",
   "execution_count": 37,
   "metadata": {
    "collapsed": false
   },
   "outputs": [
    {
     "data": {
      "text/plain": [
       "0.83787902039433182"
      ]
     },
     "execution_count": 37,
     "metadata": {},
     "output_type": "execute_result"
    }
   ],
   "source": [
    "min(new_mae1)"
   ]
  },
  {
   "cell_type": "code",
   "execution_count": 38,
   "metadata": {
    "collapsed": false
   },
   "outputs": [
    {
     "data": {
      "text/plain": [
       "0.9442004201533039"
      ]
     },
     "execution_count": 38,
     "metadata": {},
     "output_type": "execute_result"
    }
   ],
   "source": [
    "min(new_rmse2)"
   ]
  },
  {
   "cell_type": "code",
   "execution_count": 39,
   "metadata": {
    "collapsed": false
   },
   "outputs": [
    {
     "data": {
      "text/plain": [
       "0.71536728738902911"
      ]
     },
     "execution_count": 39,
     "metadata": {},
     "output_type": "execute_result"
    }
   ],
   "source": [
    "min(new_mae2)"
   ]
  },
  {
   "cell_type": "code",
   "execution_count": 40,
   "metadata": {
    "collapsed": false
   },
   "outputs": [
    {
     "data": {
      "text/plain": [
       "0.8672462625690144"
      ]
     },
     "execution_count": 40,
     "metadata": {},
     "output_type": "execute_result"
    }
   ],
   "source": [
    "min(new_rmse3)"
   ]
  },
  {
   "cell_type": "code",
   "execution_count": 41,
   "metadata": {
    "collapsed": false
   },
   "outputs": [
    {
     "data": {
      "text/plain": [
       "0.68070507230801669"
      ]
     },
     "execution_count": 41,
     "metadata": {},
     "output_type": "execute_result"
    }
   ],
   "source": [
    "min(new_mae3)"
   ]
  },
  {
   "cell_type": "code",
   "execution_count": 42,
   "metadata": {
    "collapsed": false
   },
   "outputs": [
    {
     "data": {
      "text/plain": [
       "0.8668862989236608"
      ]
     },
     "execution_count": 42,
     "metadata": {},
     "output_type": "execute_result"
    }
   ],
   "source": [
    "min(new_rmse4)"
   ]
  },
  {
   "cell_type": "code",
   "execution_count": 43,
   "metadata": {
    "collapsed": false
   },
   "outputs": [
    {
     "data": {
      "text/plain": [
       "0.68081040701989559"
      ]
     },
     "execution_count": 43,
     "metadata": {},
     "output_type": "execute_result"
    }
   ],
   "source": [
    "min(new_mae4)"
   ]
  },
  {
   "cell_type": "code",
   "execution_count": 44,
   "metadata": {
    "collapsed": false
   },
   "outputs": [
    {
     "data": {
      "text/plain": [
       "0.8693330841167869"
      ]
     },
     "execution_count": 44,
     "metadata": {},
     "output_type": "execute_result"
    }
   ],
   "source": [
    "min(new_rmse5)"
   ]
  },
  {
   "cell_type": "code",
   "execution_count": 45,
   "metadata": {
    "collapsed": false
   },
   "outputs": [
    {
     "data": {
      "text/plain": [
       "0.6833762625390899"
      ]
     },
     "execution_count": 45,
     "metadata": {},
     "output_type": "execute_result"
    }
   ],
   "source": [
    "min(new_mae5)"
   ]
  },
  {
   "cell_type": "code",
   "execution_count": 46,
   "metadata": {
    "collapsed": false
   },
   "outputs": [
    {
     "data": {
      "text/plain": [
       "0.75238880907063599"
      ]
     },
     "execution_count": 46,
     "metadata": {},
     "output_type": "execute_result"
    }
   ],
   "source": [
    "min(new_gim1)"
   ]
  },
  {
   "cell_type": "code",
   "execution_count": 47,
   "metadata": {
    "collapsed": false
   },
   "outputs": [
    {
     "data": {
      "text/plain": [
       "0.61777464588964615"
      ]
     },
     "execution_count": 47,
     "metadata": {},
     "output_type": "execute_result"
    }
   ],
   "source": [
    "min(new_gim2)"
   ]
  },
  {
   "cell_type": "code",
   "execution_count": 48,
   "metadata": {
    "collapsed": false
   },
   "outputs": [
    {
     "data": {
      "text/plain": [
       "0.58091494836917024"
      ]
     },
     "execution_count": 48,
     "metadata": {},
     "output_type": "execute_result"
    }
   ],
   "source": [
    "min(new_gim3)"
   ]
  },
  {
   "cell_type": "code",
   "execution_count": 49,
   "metadata": {
    "collapsed": false
   },
   "outputs": [
    {
     "data": {
      "text/plain": [
       "0.58046610635707185"
      ]
     },
     "execution_count": 49,
     "metadata": {},
     "output_type": "execute_result"
    }
   ],
   "source": [
    "min(new_gim4)"
   ]
  },
  {
   "cell_type": "code",
   "execution_count": 50,
   "metadata": {
    "collapsed": false
   },
   "outputs": [
    {
     "data": {
      "text/plain": [
       "0.58169075866862452"
      ]
     },
     "execution_count": 50,
     "metadata": {},
     "output_type": "execute_result"
    }
   ],
   "source": [
    "min(new_gim5)"
   ]
  },
  {
   "cell_type": "code",
   "execution_count": 51,
   "metadata": {
    "collapsed": false
   },
   "outputs": [
    {
     "data": {
      "text/plain": [
       "0.66823767550687874"
      ]
     },
     "execution_count": 51,
     "metadata": {},
     "output_type": "execute_result"
    }
   ],
   "source": [
    "min(new_gpim1)"
   ]
  },
  {
   "cell_type": "code",
   "execution_count": 52,
   "metadata": {
    "collapsed": false
   },
   "outputs": [
    {
     "data": {
      "text/plain": [
       "0.66679155730243878"
      ]
     },
     "execution_count": 52,
     "metadata": {},
     "output_type": "execute_result"
    }
   ],
   "source": [
    "min(new_gpim2)"
   ]
  },
  {
   "cell_type": "code",
   "execution_count": 53,
   "metadata": {
    "collapsed": false
   },
   "outputs": [
    {
     "data": {
      "text/plain": [
       "0.66377469977098569"
      ]
     },
     "execution_count": 53,
     "metadata": {},
     "output_type": "execute_result"
    }
   ],
   "source": [
    "min(new_gpim3)"
   ]
  },
  {
   "cell_type": "code",
   "execution_count": 54,
   "metadata": {
    "collapsed": false
   },
   "outputs": [
    {
     "data": {
      "text/plain": [
       "0.664446112427862"
      ]
     },
     "execution_count": 54,
     "metadata": {},
     "output_type": "execute_result"
    }
   ],
   "source": [
    "min(new_gpim4)"
   ]
  },
  {
   "cell_type": "code",
   "execution_count": 55,
   "metadata": {
    "collapsed": false
   },
   "outputs": [
    {
     "data": {
      "text/plain": [
       "0.66614047836466217"
      ]
     },
     "execution_count": 55,
     "metadata": {},
     "output_type": "execute_result"
    }
   ],
   "source": [
    "min(new_gpim5)"
   ]
  },
  {
   "cell_type": "code",
   "execution_count": 56,
   "metadata": {
    "collapsed": false
   },
   "outputs": [
    {
     "data": {
      "text/plain": [
       "0.9159896138705084"
      ]
     },
     "execution_count": 56,
     "metadata": {},
     "output_type": "execute_result"
    }
   ],
   "source": [
    "max(pre1)"
   ]
  },
  {
   "cell_type": "code",
   "execution_count": 57,
   "metadata": {
    "collapsed": false
   },
   "outputs": [
    {
     "data": {
      "text/plain": [
       "0.9156233860345193"
      ]
     },
     "execution_count": 57,
     "metadata": {},
     "output_type": "execute_result"
    }
   ],
   "source": [
    "max(pre2)"
   ]
  },
  {
   "cell_type": "code",
   "execution_count": 58,
   "metadata": {
    "collapsed": false
   },
   "outputs": [
    {
     "data": {
      "text/plain": [
       "0.9165974905015805"
      ]
     },
     "execution_count": 58,
     "metadata": {},
     "output_type": "execute_result"
    }
   ],
   "source": [
    "max(pre3)"
   ]
  },
  {
   "cell_type": "code",
   "execution_count": 59,
   "metadata": {
    "collapsed": false
   },
   "outputs": [
    {
     "data": {
      "text/plain": [
       "0.916014297480349"
      ]
     },
     "execution_count": 59,
     "metadata": {},
     "output_type": "execute_result"
    }
   ],
   "source": [
    "max(pre4)"
   ]
  },
  {
   "cell_type": "code",
   "execution_count": 60,
   "metadata": {
    "collapsed": false
   },
   "outputs": [
    {
     "data": {
      "text/plain": [
       "0.9145825772756678"
      ]
     },
     "execution_count": 60,
     "metadata": {},
     "output_type": "execute_result"
    }
   ],
   "source": [
    "max(pre5)"
   ]
  },
  {
   "cell_type": "code",
   "execution_count": 61,
   "metadata": {
    "collapsed": false
   },
   "outputs": [
    {
     "data": {
      "text/plain": [
       "0.8507300197630707"
      ]
     },
     "execution_count": 61,
     "metadata": {},
     "output_type": "execute_result"
    }
   ],
   "source": [
    "max(re1)"
   ]
  },
  {
   "cell_type": "code",
   "execution_count": 62,
   "metadata": {
    "collapsed": false
   },
   "outputs": [
    {
     "data": {
      "text/plain": [
       "0.8837354859022164"
      ]
     },
     "execution_count": 62,
     "metadata": {},
     "output_type": "execute_result"
    }
   ],
   "source": [
    "max(re2)"
   ]
  },
  {
   "cell_type": "code",
   "execution_count": 63,
   "metadata": {
    "collapsed": false
   },
   "outputs": [
    {
     "data": {
      "text/plain": [
       "0.8941101497213825"
      ]
     },
     "execution_count": 63,
     "metadata": {},
     "output_type": "execute_result"
    }
   ],
   "source": [
    "max(re3)"
   ]
  },
  {
   "cell_type": "code",
   "execution_count": 64,
   "metadata": {
    "collapsed": false
   },
   "outputs": [
    {
     "data": {
      "text/plain": [
       "0.8961737025980282"
      ]
     },
     "execution_count": 64,
     "metadata": {},
     "output_type": "execute_result"
    }
   ],
   "source": [
    "max(re4)"
   ]
  },
  {
   "cell_type": "code",
   "execution_count": 65,
   "metadata": {
    "collapsed": false
   },
   "outputs": [
    {
     "data": {
      "text/plain": [
       "0.896048523838967"
      ]
     },
     "execution_count": 65,
     "metadata": {},
     "output_type": "execute_result"
    }
   ],
   "source": [
    "max(re5)"
   ]
  },
  {
   "cell_type": "code",
   "execution_count": null,
   "metadata": {
    "collapsed": true
   },
   "outputs": [],
   "source": []
  },
  {
   "cell_type": "code",
   "execution_count": null,
   "metadata": {
    "collapsed": true
   },
   "outputs": [],
   "source": []
  },
  {
   "cell_type": "code",
   "execution_count": 87,
   "metadata": {
    "collapsed": false
   },
   "outputs": [
    {
     "data": {
      "text/plain": [
       "<matplotlib.text.Text at 0x2006d9f2e80>"
      ]
     },
     "execution_count": 87,
     "metadata": {},
     "output_type": "execute_result"
    },
    {
     "data": {
      "image/png": "[encoded data removed]",
      "text/plain": [
       "<matplotlib.figure.Figure at 0x2006db67588>"
      ]
     },
     "metadata": {},
     "output_type": "display_data"
    }
   ],
   "source": [
    "plt.plot(K,new_rmse1,label=\"cthres=55\")\n",
    "plt.plot(K,new_rmse2,label=\"cthres=40\")\n",
    "plt.plot(K,new_rmse3,label=\"cthres=25\")\n",
    "plt.plot(K,new_rmse4,label=\"cthres=10\")\n",
    "plt.plot(K,new_rmse5,label=\"cthres=1\")\n",
    "plt.legend(bbox_to_anchor=(1.05, 1), loc=2, borderaxespad=0.)\n",
    "plt.xlabel(\"K\")\n",
    "plt.ylabel(\"rmse\")"
   ]
  },
  {
   "cell_type": "code",
   "execution_count": 82,
   "metadata": {
    "collapsed": false
   },
   "outputs": [
    {
     "data": {
      "text/plain": [
       "<matplotlib.text.Text at 0x2006c0227f0>"
      ]
     },
     "execution_count": 82,
     "metadata": {},
     "output_type": "execute_result"
    },
    {
     "data": {
      "image/png": "[encoded data removed]",
      "text/plain": [
       "<matplotlib.figure.Figure at 0x2006c3815c0>"
      ]
     },
     "metadata": {},
     "output_type": "display_data"
    }
   ],
   "source": [
    "plt.plot(K,new_mae1,label=\"cthres=55\")\n",
    "plt.plot(K,new_mae2,label=\"cthres=40\")\n",
    "plt.plot(K,new_mae3,label=\"cthres=25\")\n",
    "plt.plot(K,new_mae4,label=\"cthres=10\")\n",
    "plt.plot(K,new_mae5,label=\"cthres=1\")\n",
    "plt.legend(bbox_to_anchor=(1.05, 1), loc=2, borderaxespad=0.)\n",
    "plt.xlabel(\"K\")\n",
    "plt.ylabel(\"mae\")"
   ]
  },
  {
   "cell_type": "markdown",
   "metadata": {},
   "source": [
    "thres= 100  K=10 rmse =1.563 K=4 mae=1.2229 \n",
    "thres=50    K=11 rmse= 1.537 K=6 mae= 1.2078\n",
    "thres=25    K=25 rmse= 1.530 K=5 mae= 1.2186\n",
    "thres=15    K=31 rmse= 1.524 K=5 mae= 1.2246"
   ]
  },
  {
   "cell_type": "code",
   "execution_count": 83,
   "metadata": {
    "collapsed": false
   },
   "outputs": [
    {
     "data": {
      "text/plain": [
       "<matplotlib.text.Text at 0x2006d4fb940>"
      ]
     },
     "execution_count": 83,
     "metadata": {},
     "output_type": "execute_result"
    },
    {
     "data": {
      "image/png": "[encoded data removed]",
      "text/plain": [
       "<matplotlib.figure.Figure at 0x2006d4f7d30>"
      ]
     },
     "metadata": {},
     "output_type": "display_data"
    }
   ],
   "source": [
    "plt.plot(K,new_gim1,label=\"cthres=55\")\n",
    "plt.plot(K,new_gim2,label=\"cthres=40\")\n",
    "plt.plot(K,new_gim3,label=\"cthres=25\")\n",
    "plt.plot(K,new_gim4,label=\"cthres=10\")\n",
    "plt.plot(K,new_gim5,label=\"cthres=1\")\n",
    "plt.legend(bbox_to_anchor=(1.05, 1), loc=2, borderaxespad=0.)\n",
    "plt.xlabel(\"K\")\n",
    "plt.ylabel(\"gim\")"
   ]
  },
  {
   "cell_type": "code",
   "execution_count": 84,
   "metadata": {
    "collapsed": false
   },
   "outputs": [
    {
     "data": {
      "text/plain": [
       "<matplotlib.text.Text at 0x2006d6ab048>"
      ]
     },
     "execution_count": 84,
     "metadata": {},
     "output_type": "execute_result"
    },
    {
     "data": {
      "image/png": "[encoded data removed]",
      "text/plain": [
       "<matplotlib.figure.Figure at 0x2006d699940>"
      ]
     },
     "metadata": {},
     "output_type": "display_data"
    }
   ],
   "source": [
    "plt.plot(K,new_gpim1,label=\"cthres=55\")\n",
    "plt.plot(K,new_gpim2,label=\"cthres=40\")\n",
    "plt.plot(K,new_gpim3,label=\"cthres=25\")\n",
    "plt.plot(K,new_gpim4,label=\"cthres=10\")\n",
    "plt.plot(K,new_gpim5,label=\"cthres=1\")\n",
    "plt.legend(bbox_to_anchor=(1.05, 1), loc=2, borderaxespad=0.)\n",
    "plt.xlabel(\"K\")\n",
    "plt.ylabel(\"gpim\")"
   ]
  },
  {
   "cell_type": "code",
   "execution_count": 85,
   "metadata": {
    "collapsed": false
   },
   "outputs": [
    {
     "data": {
      "text/plain": [
       "<matplotlib.text.Text at 0x2006d620080>"
      ]
     },
     "execution_count": 85,
     "metadata": {},
     "output_type": "execute_result"
    },
    {
     "data": {
      "image/png": "[encoded data removed]",
      "text/plain": [
       "<matplotlib.figure.Figure at 0x2006d8337f0>"
      ]
     },
     "metadata": {},
     "output_type": "display_data"
    }
   ],
   "source": [
    "plt.plot(K,pre1,label=\"cthres=55\")\n",
    "plt.plot(K,pre2,label=\"cthres=40\")\n",
    "plt.plot(K,pre3,label=\"cthres=25\")\n",
    "plt.plot(K,pre4,label=\"cthres=10\")\n",
    "plt.plot(K,pre5,label=\"cthres=1\")\n",
    "plt.legend(bbox_to_anchor=(1.05, 1), loc=2, borderaxespad=0.)\n",
    "plt.xlabel(\"K\")\n",
    "plt.ylabel(\"precission\")"
   ]
  },
  {
   "cell_type": "code",
   "execution_count": 86,
   "metadata": {
    "collapsed": false
   },
   "outputs": [
    {
     "data": {
      "text/plain": [
       "<matplotlib.text.Text at 0x2006d9fe400>"
      ]
     },
     "execution_count": 86,
     "metadata": {},
     "output_type": "execute_result"
    },
    {
     "data": {
      "image/png": "[encoded data removed]",
      "text/plain": [
       "<matplotlib.figure.Figure at 0x2006d864dd8>"
      ]
     },
     "metadata": {},
     "output_type": "display_data"
    }
   ],
   "source": [
    "plt.plot(K,re1,label=\"cthres=55\")\n",
    "plt.plot(K,re2,label=\"cthres=40\")\n",
    "plt.plot(K,re3,label=\"cthres=25\")\n",
    "plt.plot(K,re4,label=\"cthres=10\")\n",
    "plt.plot(K,re5,label=\"cthres=1\")\n",
    "plt.legend(bbox_to_anchor=(1.05, 1), loc=2, borderaxespad=0.)\n",
    "plt.xlabel(\"K\")\n",
    "plt.ylabel(\"recall\")"
   ]
  },
  {
   "cell_type": "code",
   "execution_count": 72,
   "metadata": {
    "collapsed": false
   },
   "outputs": [],
   "source": [
    "rmse_normal2=0\n",
    "mae_normal2=0\n",
    "gim=0\n",
    "gpim=0\n",
    "tp=0\n",
    "fp=0\n",
    "tn=0\n",
    "fn=0\n",
    "c_gim=0\n",
    "c_gpim=0\n",
    "for i, row in enumerate(test.itertuples(), 1):\n",
    "    usr=int(row.userId)\n",
    "    mov=int(row.movieId)\n",
    "    actual=row.rating\n",
    "    pred_normal2=0\n",
    "    \n",
    "    list_of_all_movies_rate_by_the_current_user=np.array(userrated[usr])\n",
    "#     length=len(list_of_all_movies_rate_by_the_current_user)\n",
    "    l1=[(deviation[j][mov]/ cardinality[j][mov]) for j in list_of_all_movies_rate_by_the_current_user \n",
    "                      if cardinality[j][mov]!=0]\n",
    "    cnt=len(l1)\n",
    "    pred_normal2+=sum([dictionary[(usr,j)] for j in list_of_all_movies_rate_by_the_current_user  if cardinality[j][mov]!=0])\n",
    "    pred_normal2+=sum(l1)\n",
    "    \n",
    "#     list_of_all_movies_rate_by_the_current_user=train[train['userId']==usr]\n",
    "#     length=list_of_all_movies_rate_by_the_current_user.shape[0]\n",
    "#     cnt=0\n",
    "#     for j,r2 in enumerate(list_of_all_movies_rate_by_the_current_user.itertuples(),1):\n",
    "#         curmov=r2.movieId\n",
    "#         currate=r2.rating\n",
    "#         if cardinality[curmov][mov]!=0:\n",
    "#             pred_normal2+=(currate+(deviation[curmov][mov]/ cardinality[curmov][mov]))\n",
    "#             cnt+=1\n",
    "    if cnt!=0:\n",
    "        predicted_normal2=(pred_normal2/cnt)\n",
    "    else:\n",
    "        predicted_normal2=0\n",
    "    if predicted_normal2>5:\n",
    "        predicted_normal2=5\n",
    "    if predicted_normal2 <0:\n",
    "        predicted_normal2=0\n",
    "    if actual >=3:\n",
    "        gim+=abs(actual-predicted_normal2)\n",
    "        c_gim+=1\n",
    "    if predicted_normal2 >=3:\n",
    "        gpim+=abs(actual-predicted_normal2)\n",
    "        c_gpim+=1\n",
    "    \n",
    "    if actual>=3 and predicted_normal2>=3:\n",
    "        tp+=1\n",
    "    elif actual<3 and predicted_normal2>=3:\n",
    "        fp+=1\n",
    "    elif actual>=3 and predicted_normal2<3:\n",
    "        fn+=1\n",
    "    else:\n",
    "        tn+=1\n",
    "    #predicted_dict[usr].append(predicted_normal2)\n",
    "    rmse_normal2+=((actual-predicted_normal2)**2)\n",
    "    mae_normal2+=abs(actual-predicted_normal2)\n",
    "    "
   ]
  },
  {
   "cell_type": "code",
   "execution_count": 73,
   "metadata": {
    "collapsed": true
   },
   "outputs": [],
   "source": [
    "number=test['userId'].count()"
   ]
  },
  {
   "cell_type": "code",
   "execution_count": 74,
   "metadata": {
    "collapsed": false
   },
   "outputs": [
    {
     "data": {
      "text/plain": [
       "313172"
      ]
     },
     "execution_count": 74,
     "metadata": {},
     "output_type": "execute_result"
    }
   ],
   "source": [
    "number"
   ]
  },
  {
   "cell_type": "code",
   "execution_count": 75,
   "metadata": {
    "collapsed": false
   },
   "outputs": [
    {
     "name": "stdout",
     "output_type": "stream",
     "text": [
      "0.705325244781\n"
     ]
    }
   ],
   "source": [
    "print(mae_normal2/number)"
   ]
  },
  {
   "cell_type": "code",
   "execution_count": 76,
   "metadata": {
    "collapsed": false
   },
   "outputs": [
    {
     "name": "stdout",
     "output_type": "stream",
     "text": [
      "0.8942444265911246\n"
     ]
    }
   ],
   "source": [
    "print(math.sqrt(rmse_normal2/number))"
   ]
  },
  {
   "cell_type": "code",
   "execution_count": 77,
   "metadata": {
    "collapsed": false
   },
   "outputs": [
    {
     "data": {
      "text/plain": [
       "0.59993749627245663"
      ]
     },
     "execution_count": 77,
     "metadata": {},
     "output_type": "execute_result"
    }
   ],
   "source": [
    "gim/c_gim"
   ]
  },
  {
   "cell_type": "code",
   "execution_count": 78,
   "metadata": {
    "collapsed": false
   },
   "outputs": [
    {
     "data": {
      "text/plain": [
       "0.68889907930044048"
      ]
     },
     "execution_count": 78,
     "metadata": {},
     "output_type": "execute_result"
    }
   ],
   "source": [
    "gpim/c_gpim"
   ]
  },
  {
   "cell_type": "code",
   "execution_count": 79,
   "metadata": {
    "collapsed": false
   },
   "outputs": [
    {
     "data": {
      "text/plain": [
       "0.9101764086872445"
      ]
     },
     "execution_count": 79,
     "metadata": {},
     "output_type": "execute_result"
    }
   ],
   "source": [
    "tp/(tp+fp)"
   ]
  },
  {
   "cell_type": "code",
   "execution_count": 80,
   "metadata": {
    "collapsed": false
   },
   "outputs": [
    {
     "data": {
      "text/plain": [
       "0.8891295524290369"
      ]
     },
     "execution_count": 80,
     "metadata": {},
     "output_type": "execute_result"
    }
   ],
   "source": [
    "tp/(tp+fn)"
   ]
  },
  {
   "cell_type": "code",
   "execution_count": null,
   "metadata": {
    "collapsed": true
   },
   "outputs": [],
   "source": []
  }
 ],
 "metadata": {
  "anaconda-cloud": {},
  "kernelspec": {
   "display_name": "Python [default]",
   "language": "python",
   "name": "python3"
  },
  "language_info": {
   "codemirror_mode": {
    "name": "ipython",
    "version": 3
   },
   "file_extension": ".py",
   "mimetype": "text/x-python",
   "name": "python",
   "nbconvert_exporter": "python",
   "pygments_lexer": "ipython3",
   "version": "3.5.2"
  }
 },
 "nbformat": 4,
 "nbformat_minor": 1
}
