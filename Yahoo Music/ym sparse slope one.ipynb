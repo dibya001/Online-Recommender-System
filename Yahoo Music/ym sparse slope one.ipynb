{
 "cells": [
  {
   "cell_type": "code",
   "execution_count": 94,
   "metadata": {
    "collapsed": true
   },
   "outputs": [],
   "source": [
    "import pandas as pd\n",
    "import numpy as np\n",
    "import matplotlib.pyplot as plt\n",
    "%matplotlib inline"
   ]
  },
  {
   "cell_type": "code",
   "execution_count": 95,
   "metadata": {
    "collapsed": true
   },
   "outputs": [],
   "source": [
    "train=pd.read_csv('f:/ym4trainsparse.csv',usecols=[1,2,3])\n",
    "test=pd.read_csv('f:/ym4testsparse.csv',usecols=[1,2,3])"
   ]
  },
  {
   "cell_type": "code",
   "execution_count": 96,
   "metadata": {
    "collapsed": true
   },
   "outputs": [],
   "source": [
    "no_movies = 1001\n",
    "no_users = 15401"
   ]
  },
  {
   "cell_type": "code",
   "execution_count": 97,
   "metadata": {
    "collapsed": true
   },
   "outputs": [],
   "source": [
    "import time"
   ]
  },
  {
   "cell_type": "code",
   "execution_count": 98,
   "metadata": {
    "collapsed": false
   },
   "outputs": [],
   "source": [
    "rated= [set() for i in range(no_movies) ]\n",
    "dictionary={}"
   ]
  },
  {
   "cell_type": "code",
   "execution_count": 99,
   "metadata": {
    "collapsed": true
   },
   "outputs": [],
   "source": [
    "deviation=np.zeros(no_movies*no_movies).reshape(no_movies,no_movies)\n",
    "cardinality=np.zeros(no_movies*no_movies).reshape(no_movies,no_movies)"
   ]
  },
  {
   "cell_type": "code",
   "execution_count": 100,
   "metadata": {
    "collapsed": true
   },
   "outputs": [],
   "source": [
    "for i, row in enumerate(train.itertuples(), 1):\n",
    "    usr=int(row.userId)\n",
    "    mov=int(row.movieId)\n",
    "    rate=row.rating\n",
    "    \n",
    "    rated[mov].add(usr)\n",
    "    dictionary[(usr,mov)]=rate"
   ]
  },
  {
   "cell_type": "code",
   "execution_count": 101,
   "metadata": {
    "collapsed": false
   },
   "outputs": [],
   "source": [
    "for i in range(no_movies):\n",
    "    t1=time.time()\n",
    "    \n",
    "    for j in range(i+1,no_movies):\n",
    "        tmprate = list(rated[i].intersection(rated[j]))\n",
    "        \n",
    "        uoutput=0\n",
    "        c=0\n",
    "        for uid in tmprate:\n",
    "            uoutput=uoutput+(dictionary[(uid,j)]-dictionary[(uid,i)])\n",
    "            c=c+1\n",
    "            \n",
    "        deviation[i][j]=uoutput\n",
    "        deviation[j][i]=-uoutput\n",
    "        cardinality[i][j]=c\n",
    "        cardinality[j][i]=c"
   ]
  },
  {
   "cell_type": "code",
   "execution_count": 102,
   "metadata": {
    "collapsed": false
   },
   "outputs": [
    {
     "data": {
      "text/html": [
       "<div>\n",
       "<table border=\"1\" class=\"dataframe\">\n",
       "  <thead>\n",
       "    <tr style=\"text-align: right;\">\n",
       "      <th></th>\n",
       "      <th>userId</th>\n",
       "      <th>movieId</th>\n",
       "      <th>rating</th>\n",
       "    </tr>\n",
       "  </thead>\n",
       "  <tbody>\n",
       "    <tr>\n",
       "      <th>count</th>\n",
       "      <td>10551.000000</td>\n",
       "      <td>10551.000000</td>\n",
       "      <td>10551.000000</td>\n",
       "    </tr>\n",
       "    <tr>\n",
       "      <th>mean</th>\n",
       "      <td>10053.692446</td>\n",
       "      <td>496.290115</td>\n",
       "      <td>2.960478</td>\n",
       "    </tr>\n",
       "    <tr>\n",
       "      <th>std</th>\n",
       "      <td>3182.642263</td>\n",
       "      <td>304.551041</td>\n",
       "      <td>1.594556</td>\n",
       "    </tr>\n",
       "    <tr>\n",
       "      <th>min</th>\n",
       "      <td>2223.000000</td>\n",
       "      <td>1.000000</td>\n",
       "      <td>1.000000</td>\n",
       "    </tr>\n",
       "    <tr>\n",
       "      <th>25%</th>\n",
       "      <td>7487.500000</td>\n",
       "      <td>229.500000</td>\n",
       "      <td>1.000000</td>\n",
       "    </tr>\n",
       "    <tr>\n",
       "      <th>50%</th>\n",
       "      <td>10125.000000</td>\n",
       "      <td>492.000000</td>\n",
       "      <td>3.000000</td>\n",
       "    </tr>\n",
       "    <tr>\n",
       "      <th>75%</th>\n",
       "      <td>12762.500000</td>\n",
       "      <td>780.000000</td>\n",
       "      <td>5.000000</td>\n",
       "    </tr>\n",
       "    <tr>\n",
       "      <th>max</th>\n",
       "      <td>15400.000000</td>\n",
       "      <td>1000.000000</td>\n",
       "      <td>5.000000</td>\n",
       "    </tr>\n",
       "  </tbody>\n",
       "</table>\n",
       "</div>"
      ],
      "text/plain": [
       "             userId       movieId        rating\n",
       "count  10551.000000  10551.000000  10551.000000\n",
       "mean   10053.692446    496.290115      2.960478\n",
       "std     3182.642263    304.551041      1.594556\n",
       "min     2223.000000      1.000000      1.000000\n",
       "25%     7487.500000    229.500000      1.000000\n",
       "50%    10125.000000    492.000000      3.000000\n",
       "75%    12762.500000    780.000000      5.000000\n",
       "max    15400.000000   1000.000000      5.000000"
      ]
     },
     "execution_count": 102,
     "metadata": {},
     "output_type": "execute_result"
    }
   ],
   "source": [
    "test.describe()"
   ]
  },
  {
   "cell_type": "code",
   "execution_count": 103,
   "metadata": {
    "collapsed": false
   },
   "outputs": [],
   "source": [
    "number=test['userId'].count()"
   ]
  },
  {
   "cell_type": "code",
   "execution_count": 104,
   "metadata": {
    "collapsed": true
   },
   "outputs": [],
   "source": [
    "import math"
   ]
  },
  {
   "cell_type": "code",
   "execution_count": 105,
   "metadata": {
    "collapsed": false
   },
   "outputs": [],
   "source": [
    "rmse_normal2=0\n",
    "mae_normal2=0\n",
    "err_gim=0\n",
    "err_gpim=0\n",
    "c_gim=0\n",
    "c_gpim=0\n",
    "tp=0\n",
    "fp=0\n",
    "tn=0\n",
    "fn=0\n",
    "for i, row in enumerate(test.itertuples(), 1):\n",
    "    usr=int(row.userId)\n",
    "    mov=int(row.movieId)\n",
    "    actual=row.rating\n",
    "    pred_normal2=0\n",
    "    pred_weighted2=0\n",
    "    sum_weighted2=0\n",
    "    list_of_all_movies_rate_by_the_current_user=train[train['userId']==usr]\n",
    "    length=list_of_all_movies_rate_by_the_current_user.shape[0]\n",
    "    cnt=0\n",
    "    for j,r2 in enumerate(list_of_all_movies_rate_by_the_current_user.itertuples(),1):\n",
    "        curmov=r2.movieId\n",
    "        currate=r2.rating\n",
    "        if cardinality[curmov][mov]!=0:\n",
    "            pred_normal2+=(currate+(deviation[curmov][mov]/ cardinality[curmov][mov]))\n",
    "            cnt+=1\n",
    "    if cnt!=0:\n",
    "        predicted_normal2=(pred_normal2/cnt)\n",
    "    else:\n",
    "        predicted_normal2=0\n",
    "    if predicted_normal2>5:\n",
    "        predicted_normal2=5\n",
    "    if predicted_normal2 <0:\n",
    "        predicted_normal2=0\n",
    "    \n",
    "    if actual >=3:\n",
    "        err_gim+=math.fabs(actual-predicted_normal2)\n",
    "        c_gim+=1\n",
    "    if predicted_normal2>=3:\n",
    "        err_gpim+=math.fabs(actual-predicted_normal2)\n",
    "        c_gpim+=1\n",
    "    if actual>=3 and predicted_normal2>=3:\n",
    "        tp+=1\n",
    "    elif actual<3 and predicted_normal2>=3:\n",
    "        fp+=1\n",
    "    elif actual>=3 and predicted_normal2<3:\n",
    "        fn+=1\n",
    "    else:\n",
    "        tn+=1\n",
    "    rmse_normal2+=((actual-predicted_normal2)**2)\n",
    "    mae_normal2+=abs(actual-predicted_normal2)\n",
    "    "
   ]
  },
  {
   "cell_type": "code",
   "execution_count": 106,
   "metadata": {
    "collapsed": false
   },
   "outputs": [
    {
     "name": "stdout",
     "output_type": "stream",
     "text": [
      "1.37586296232\n"
     ]
    }
   ],
   "source": [
    "print(mae_normal2/number)"
   ]
  },
  {
   "cell_type": "code",
   "execution_count": null,
   "metadata": {
    "collapsed": true
   },
   "outputs": [],
   "source": []
  },
  {
   "cell_type": "code",
   "execution_count": null,
   "metadata": {
    "collapsed": true
   },
   "outputs": [],
   "source": []
  },
  {
   "cell_type": "code",
   "execution_count": 107,
   "metadata": {
    "collapsed": false
   },
   "outputs": [
    {
     "name": "stdout",
     "output_type": "stream",
     "text": [
      "1.8328701348911534\n"
     ]
    }
   ],
   "source": [
    "print(math.sqrt(rmse_normal2/number))"
   ]
  },
  {
   "cell_type": "code",
   "execution_count": 108,
   "metadata": {
    "collapsed": false
   },
   "outputs": [
    {
     "data": {
      "text/plain": [
       "1.4116273445592038"
      ]
     },
     "execution_count": 108,
     "metadata": {},
     "output_type": "execute_result"
    }
   ],
   "source": [
    "err_gim/c_gim"
   ]
  },
  {
   "cell_type": "code",
   "execution_count": 109,
   "metadata": {
    "collapsed": false
   },
   "outputs": [
    {
     "data": {
      "text/plain": [
       "1.1654578209149706"
      ]
     },
     "execution_count": 109,
     "metadata": {},
     "output_type": "execute_result"
    }
   ],
   "source": [
    "err_gpim/c_gpim"
   ]
  },
  {
   "cell_type": "code",
   "execution_count": 110,
   "metadata": {
    "collapsed": false
   },
   "outputs": [
    {
     "data": {
      "text/plain": [
       "0.7392339749950387"
      ]
     },
     "execution_count": 110,
     "metadata": {},
     "output_type": "execute_result"
    }
   ],
   "source": [
    "tp/(tp+fp)"
   ]
  },
  {
   "cell_type": "code",
   "execution_count": 111,
   "metadata": {
    "collapsed": false
   },
   "outputs": [
    {
     "data": {
      "text/plain": [
       "0.613471673254282"
      ]
     },
     "execution_count": 111,
     "metadata": {},
     "output_type": "execute_result"
    }
   ],
   "source": [
    "tp/(tp+fn)"
   ]
  },
  {
   "cell_type": "code",
   "execution_count": null,
   "metadata": {
    "collapsed": true
   },
   "outputs": [],
   "source": []
  }
 ],
 "metadata": {
  "anaconda-cloud": {},
  "kernelspec": {
   "display_name": "Python [default]",
   "language": "python",
   "name": "python3"
  },
  "language_info": {
   "codemirror_mode": {
    "name": "ipython",
    "version": 3
   },
   "file_extension": ".py",
   "mimetype": "text/x-python",
   "name": "python",
   "nbconvert_exporter": "python",
   "pygments_lexer": "ipython3",
   "version": "3.5.2"
  }
 },
 "nbformat": 4,
 "nbformat_minor": 1
}
