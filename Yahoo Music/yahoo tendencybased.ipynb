{
 "cells": [
  {
   "cell_type": "code",
   "execution_count": 1,
   "metadata": {
    "collapsed": true
   },
   "outputs": [],
   "source": [
    "import pandas as pd"
   ]
  },
  {
   "cell_type": "code",
   "execution_count": 2,
   "metadata": {
    "collapsed": true
   },
   "outputs": [],
   "source": [
    "import numpy as np"
   ]
  },
  {
   "cell_type": "code",
   "execution_count": 3,
   "metadata": {
    "collapsed": true
   },
   "outputs": [],
   "source": [
    "tr_temp=pd.read_csv('ytrain.csv',usecols=['itemId','userId','rating'])"
   ]
  },
  {
   "cell_type": "code",
   "execution_count": 4,
   "metadata": {
    "collapsed": true
   },
   "outputs": [],
   "source": [
    "hold_temp=pd.read_csv('yholdout.csv',usecols=['itemId','userId','rating'])"
   ]
  },
  {
   "cell_type": "code",
   "execution_count": 5,
   "metadata": {
    "collapsed": true
   },
   "outputs": [],
   "source": [
    "te_temp=pd.read_csv('ytest.csv',usecols=['itemId','userId','rating'])"
   ]
  },
  {
   "cell_type": "code",
   "execution_count": 6,
   "metadata": {
    "collapsed": true
   },
   "outputs": [],
   "source": [
    "import math"
   ]
  },
  {
   "cell_type": "code",
   "execution_count": 7,
   "metadata": {
    "collapsed": true
   },
   "outputs": [],
   "source": [
    "movies_mean=np.zeros(shape=[1001,3])"
   ]
  },
  {
   "cell_type": "code",
   "execution_count": 8,
   "metadata": {
    "collapsed": true
   },
   "outputs": [],
   "source": [
    "user_total=np.zeros(15401)\n",
    "cnt=np.zeros(15401,dtype='int64')\n",
    "for i,j in tr_temp.iterrows():\n",
    "    k=int(j['userId'])\n",
    "    cnt[k]+=1\n",
    "    user_total[k]+=j['rating']\n",
    "    p=int(j['itemId'])\n",
    "    movies_mean[p][0]+=1\n",
    "    movies_mean[p][1]+=j['rating']"
   ]
  },
  {
   "cell_type": "code",
   "execution_count": 9,
   "metadata": {},
   "outputs": [
    {
     "name": "stderr",
     "output_type": "stream",
     "text": [
      "C:\\Users\\ADMIN\\Anaconda3\\lib\\site-packages\\ipykernel_launcher.py:1: RuntimeWarning: invalid value encountered in double_scalars\n",
      "  \"\"\"Entry point for launching an IPython kernel.\n",
      "C:\\Users\\ADMIN\\Anaconda3\\lib\\site-packages\\ipykernel_launcher.py:3: RuntimeWarning: invalid value encountered in double_scalars\n",
      "  This is separate from the ipykernel package so we can avoid doing imports until\n"
     ]
    }
   ],
   "source": [
    "user_mean=np.array([ i/j for i,j in zip(user_total,cnt) ])\n",
    "for x in movies_mean:\n",
    "    x[2]=round(x[1]/x[0],2)\n",
    "    \n",
    "for x in movies_mean:\n",
    "    if math.isnan(x[2]):\n",
    "        x[2]=0"
   ]
  },
  {
   "cell_type": "code",
   "execution_count": 11,
   "metadata": {},
   "outputs": [
    {
     "name": "stdout",
     "output_type": "stream",
     "text": [
      "[[  0.00000000e+00   0.00000000e+00   0.00000000e+00]\n",
      " [  0.00000000e+00   0.00000000e+00   0.00000000e+00]\n",
      " [  1.00000000e+00   3.00000000e+00   3.00000000e+00]\n",
      " ..., \n",
      " [  7.18000000e+02   2.07100000e+03   2.88000000e+00]\n",
      " [  1.35000000e+02   3.30000000e+02   2.44000000e+00]\n",
      " [  8.60000000e+01   2.71000000e+02   3.15000000e+00]]\n"
     ]
    }
   ],
   "source": [
    "print(movies_mean)"
   ]
  },
  {
   "cell_type": "code",
   "execution_count": null,
   "metadata": {
    "collapsed": true
   },
   "outputs": [],
   "source": []
  },
  {
   "cell_type": "code",
   "execution_count": 10,
   "metadata": {
    "collapsed": true
   },
   "outputs": [],
   "source": [
    "for i in range(len(user_mean)):\n",
    "    if math.isnan(user_mean[i]):\n",
    "        user_mean[i]=0"
   ]
  },
  {
   "cell_type": "code",
   "execution_count": 11,
   "metadata": {
    "collapsed": true
   },
   "outputs": [],
   "source": [
    "foruser=np.zeros(15401)\n",
    "formovies=np.zeros(1001)\n",
    "for index,j in tr_temp.iterrows():\n",
    "    usr=int(j['userId'])\n",
    "    mov=int(j['itemId'])\n",
    "    foruser[usr]+=movies_mean[mov][2]\n",
    "    formovies[mov]+=user_mean[usr]"
   ]
  },
  {
   "cell_type": "code",
   "execution_count": 12,
   "metadata": {
    "collapsed": true
   },
   "outputs": [],
   "source": [
    "import time"
   ]
  },
  {
   "cell_type": "code",
   "execution_count": 17,
   "metadata": {
    "collapsed": true
   },
   "outputs": [],
   "source": [
    "gpim=[]\n",
    "gim=[]\n",
    "rmse=[]\n",
    "mae=[]\n",
    "Beta=[i/10 for i in range(1,11)]\n",
    "for beta in Beta:\n",
    "    error=0\n",
    "    err1=0\n",
    "    err_gpim=0\n",
    "    err_gim=0\n",
    "    c=0\n",
    "    c_gim=0\n",
    "    c_gpim=0\n",
    "    for index,j in hold_temp.iterrows():\n",
    "        predicted_rating=0\n",
    "    \n",
    "        usr=int(j['userId'])\n",
    "        mov=int(j['itemId'])\n",
    "        actual=j['rating']\n",
    "    \n",
    "        usr_mean=user_mean[usr]\n",
    "    \n",
    "        item_mean=movies_mean[mov][2]\n",
    "        usr_rated=cnt[usr]\n",
    "        usr_tendency=0\n",
    "        if usr_rated!=0:\n",
    "            usr_tendency=(user_total[usr]-foruser[usr])/usr_rated\n",
    "   \n",
    "        no_of_ratings=movies_mean[mov][0]\n",
    "        item_tendency=0\n",
    "        if no_of_ratings!=0:\n",
    "            item_tendency=(movies_mean[mov][1]-formovies[mov])/no_of_ratings\n",
    "   \n",
    "        if usr_tendency>=0 and item_tendency>=0:\n",
    "            predicted_rating=max(usr_mean+item_tendency,item_mean+usr_tendency)\n",
    "    \n",
    "        elif usr_tendency<0 and item_tendency<0:\n",
    "            predicted_rating=min(usr_mean+item_tendency,item_mean+usr_tendency)\n",
    "    \n",
    "        elif usr_tendency<0 and item_tendency>=0 and item_mean>usr_mean:\n",
    "            predicted_rating=min(max(usr_mean, (item_mean+usr_tendency)*beta + (usr_mean+item_tendency)*(1-beta)),item_mean)\n",
    "        \n",
    "        elif usr_tendency>=0 and item_tendency<0 and item_mean<usr_mean:\n",
    "            predicted_rating=min(max(item_mean, (item_mean+usr_tendency)*beta + (usr_mean+item_tendency)*(1-beta)),usr_mean)\n",
    "        else:\n",
    "            predicted_rating=((item_mean*beta) +usr_mean*(1-beta))\n",
    "    \n",
    "        error+=((actual-predicted_rating)**2)\n",
    "        err1+=math.fabs(actual-predicted_rating)\n",
    "        c+=1\n",
    "        if actual >3:\n",
    "            err_gim+=math.fabs(actual-predicted_rating)\n",
    "            c_gim+=1\n",
    "        if predicted_rating > 3:\n",
    "            err_gpim+=math.fabs(actual-predicted_rating)\n",
    "            c_gpim+=1\n",
    "        #print(error)\n",
    "    #print(math.sqrt(error/c))\n",
    "    rmse.append(math.sqrt(error/c))\n",
    "    mae.append(err1/c)\n",
    "    gim.append(err_gim/c_gim)\n",
    "    gpim.append(err_gpim/c_gpim)"
   ]
  },
  {
   "cell_type": "code",
   "execution_count": 14,
   "metadata": {
    "collapsed": true
   },
   "outputs": [],
   "source": [
    "%matplotlib inline\n",
    "import matplotlib.pyplot as plt"
   ]
  },
  {
   "cell_type": "code",
   "execution_count": 19,
   "metadata": {},
   "outputs": [
    {
     "data": {
      "text/plain": [
       "[<matplotlib.lines.Line2D at 0xad43659898>]"
      ]
     },
     "execution_count": 19,
     "metadata": {},
     "output_type": "execute_result"
    },
    {
     "data": {
      "image/png": "[encoded data removed]",
      "text/plain": [
       "<matplotlib.figure.Figure at 0xad3d79c0f0>"
      ]
     },
     "metadata": {},
     "output_type": "display_data"
    }
   ],
   "source": [
    "plt.plot(Beta,rmse)"
   ]
  },
  {
   "cell_type": "code",
   "execution_count": 20,
   "metadata": {},
   "outputs": [
    {
     "data": {
      "text/plain": [
       "[<matplotlib.lines.Line2D at 0xad4372b358>]"
      ]
     },
     "execution_count": 20,
     "metadata": {},
     "output_type": "execute_result"
    },
    {
     "data": {
      "image/png": "[encoded data removed]",
      "text/plain": [
       "<matplotlib.figure.Figure at 0xad436c0908>"
      ]
     },
     "metadata": {},
     "output_type": "display_data"
    }
   ],
   "source": [
    "plt.plot(Beta,mae)"
   ]
  },
  {
   "cell_type": "code",
   "execution_count": 21,
   "metadata": {},
   "outputs": [
    {
     "data": {
      "text/plain": [
       "[<matplotlib.lines.Line2D at 0xad437d29e8>]"
      ]
     },
     "execution_count": 21,
     "metadata": {},
     "output_type": "execute_result"
    },
    {
     "data": {
      "image/png": "[encoded data removed]",
      "text/plain": [
       "<matplotlib.figure.Figure at 0xad43757a58>"
      ]
     },
     "metadata": {},
     "output_type": "display_data"
    }
   ],
   "source": [
    "plt.plot(Beta,gim)"
   ]
  },
  {
   "cell_type": "code",
   "execution_count": 22,
   "metadata": {},
   "outputs": [
    {
     "data": {
      "text/plain": [
       "[<matplotlib.lines.Line2D at 0xad4385c358>]"
      ]
     },
     "execution_count": 22,
     "metadata": {},
     "output_type": "execute_result"
    },
    {
     "data": {
      "image/png": "[encoded data removed]",
      "text/plain": [
       "<matplotlib.figure.Figure at 0xad437e52b0>"
      ]
     },
     "metadata": {},
     "output_type": "display_data"
    }
   ],
   "source": [
    "plt.plot(Beta,gpim)"
   ]
  },
  {
   "cell_type": "code",
   "execution_count": 23,
   "metadata": {
    "collapsed": true
   },
   "outputs": [],
   "source": [
    "final_beta=0.1"
   ]
  },
  {
   "cell_type": "code",
   "execution_count": 24,
   "metadata": {
    "collapsed": true
   },
   "outputs": [],
   "source": [
    "predicted_rating=[]\n",
    "beta=final_beta\n",
    "for index,j in te_temp.iterrows():\n",
    "    usr=int(j['userId'])\n",
    "    mov=int(j['itemId'])\n",
    "    actual=j['rating']\n",
    "    usr_mean=user_mean[usr]\n",
    "    item_mean=movies_mean[mov][2]\n",
    "    usr_rated=cnt[usr]\n",
    "    usr_tendency=0\n",
    "    if usr_rated!=0:\n",
    "        usr_tendency=(user_total[usr]-foruser[usr])/usr_rated\n",
    "   \n",
    "    no_of_ratings=movies_mean[mov][0]\n",
    "    item_tendency=0\n",
    "    if no_of_ratings!=0:\n",
    "        item_tendency=(movies_mean[mov][1]-formovies[mov])/no_of_ratings\n",
    "    if usr_tendency>=0 and item_tendency>=0:\n",
    "        predicted_rating.append(max(usr_mean+item_tendency,item_mean+usr_tendency))\n",
    "    elif usr_tendency<0 and item_tendency<0:\n",
    "        predicted_rating.append(min(usr_mean+item_tendency,item_mean+usr_tendency))\n",
    "    elif usr_tendency<0 and item_tendency>=0 and item_mean>usr_mean:\n",
    "        predicted_rating.append(min(max(usr_mean, (item_mean+usr_tendency)*beta + (usr_mean+item_tendency)*(1-beta)),item_mean))\n",
    "    elif usr_tendency>=0 and item_tendency<0 and item_mean<usr_mean:\n",
    "        predicted_rating.append(min(max(item_mean, (item_mean+usr_tendency)*beta + (usr_mean+item_tendency)*(1-beta)),usr_mean))\n",
    "    else:\n",
    "        predicted_rating.append(((item_mean*beta) +usr_mean*(1-beta)))\n",
    "   "
   ]
  },
  {
   "cell_type": "code",
   "execution_count": 26,
   "metadata": {
    "collapsed": true
   },
   "outputs": [],
   "source": [
    "file=open('yahootendencybased.txt', 'w')"
   ]
  },
  {
   "cell_type": "code",
   "execution_count": 27,
   "metadata": {
    "collapsed": true
   },
   "outputs": [],
   "source": [
    "for item in predicted_rating:\n",
    "    file.write(\"%s\\n\" % item)"
   ]
  },
  {
   "cell_type": "code",
   "execution_count": 28,
   "metadata": {},
   "outputs": [
    {
     "name": "stdout",
     "output_type": "stream",
     "text": [
      "rmse error:  1.561657248137215\n",
      "mae : 1.26329516978\n"
     ]
    }
   ],
   "source": [
    "error=0\n",
    "mae=0\n",
    "c=0\n",
    "for ind,j in te_temp.iterrows():\n",
    "    actual=j['rating'];\n",
    "    #print(actual ,predicted_rating[c] )\n",
    "    error+=((actual-predicted_rating[c])**2)\n",
    "    mae+=(abs(actual-predicted_rating[c]))\n",
    "    c+=1\n",
    "#print(error)\n",
    "#c=c+1\n",
    "print(\"rmse error: \",math.sqrt(error/c))\n",
    "print(\"mae :\",(mae/c))"
   ]
  },
  {
   "cell_type": "code",
   "execution_count": null,
   "metadata": {
    "collapsed": true
   },
   "outputs": [],
   "source": []
  },
  {
   "cell_type": "code",
   "execution_count": 13,
   "metadata": {
    "collapsed": true
   },
   "outputs": [],
   "source": [
    "gpim=[]\n",
    "gim=[]\n",
    "rmse=[]\n",
    "mae=[]\n",
    "Beta=[i/10 for i in range(1,11)]\n",
    "for beta in Beta:\n",
    "    error=0\n",
    "    err1=0\n",
    "    err_gpim=0\n",
    "    err_gim=0\n",
    "    c=0\n",
    "    c_gim=0\n",
    "    c_gpim=0\n",
    "    for index,j in te_temp.iterrows():\n",
    "        predicted_rating=0\n",
    "    \n",
    "        usr=int(j['userId'])\n",
    "        mov=int(j['itemId'])\n",
    "        actual=j['rating']\n",
    "    \n",
    "        usr_mean=user_mean[usr]\n",
    "    \n",
    "        item_mean=movies_mean[mov][2]\n",
    "        usr_rated=cnt[usr]\n",
    "        usr_tendency=0\n",
    "        if usr_rated!=0:\n",
    "            usr_tendency=(user_total[usr]-foruser[usr])/usr_rated\n",
    "   \n",
    "        no_of_ratings=movies_mean[mov][0]\n",
    "        item_tendency=0\n",
    "        if no_of_ratings!=0:\n",
    "            item_tendency=(movies_mean[mov][1]-formovies[mov])/no_of_ratings\n",
    "   \n",
    "        if usr_tendency>=0 and item_tendency>=0:\n",
    "            predicted_rating=max(usr_mean+item_tendency,item_mean+usr_tendency)\n",
    "    \n",
    "        elif usr_tendency<0 and item_tendency<0:\n",
    "            predicted_rating=min(usr_mean+item_tendency,item_mean+usr_tendency)\n",
    "    \n",
    "        elif usr_tendency<0 and item_tendency>=0 and item_mean>usr_mean:\n",
    "            predicted_rating=min(max(usr_mean, (item_mean+usr_tendency)*beta + (usr_mean+item_tendency)*(1-beta)),item_mean)\n",
    "        \n",
    "        elif usr_tendency>=0 and item_tendency<0 and item_mean<usr_mean:\n",
    "            predicted_rating=min(max(item_mean, (item_mean+usr_tendency)*beta + (usr_mean+item_tendency)*(1-beta)),usr_mean)\n",
    "        else:\n",
    "            predicted_rating=((item_mean*beta) +usr_mean*(1-beta))\n",
    "    \n",
    "        error+=((actual-predicted_rating)**2)\n",
    "        err1+=math.fabs(actual-predicted_rating)\n",
    "        c+=1\n",
    "        if actual >3:\n",
    "            err_gim+=math.fabs(actual-predicted_rating)\n",
    "            c_gim+=1\n",
    "        if predicted_rating > 3:\n",
    "            err_gpim+=math.fabs(actual-predicted_rating)\n",
    "            c_gpim+=1\n",
    "        #print(error)\n",
    "    #print(math.sqrt(error/c))\n",
    "    rmse.append(math.sqrt(error/c))\n",
    "    mae.append(err1/c)\n",
    "    gim.append(err_gim/c_gim)\n",
    "    gpim.append(err_gpim/c_gpim)"
   ]
  },
  {
   "cell_type": "code",
   "execution_count": 15,
   "metadata": {},
   "outputs": [
    {
     "data": {
      "text/plain": [
       "[<matplotlib.lines.Line2D at 0xda6b8e25f8>]"
      ]
     },
     "execution_count": 15,
     "metadata": {},
     "output_type": "execute_result"
    },
    {
     "data": {
      "image/png": "[encoded data removed]",
      "text/plain": [
       "<matplotlib.figure.Figure at 0xda6ac52d30>"
      ]
     },
     "metadata": {},
     "output_type": "display_data"
    }
   ],
   "source": [
    "plt.plot(Beta,rmse)"
   ]
  },
  {
   "cell_type": "code",
   "execution_count": 16,
   "metadata": {},
   "outputs": [
    {
     "data": {
      "text/plain": [
       "[<matplotlib.lines.Line2D at 0xda6bcbb0b8>]"
      ]
     },
     "execution_count": 16,
     "metadata": {},
     "output_type": "execute_result"
    },
    {
     "data": {
      "image/png": "[encoded data removed]",
      "text/plain": [
       "<matplotlib.figure.Figure at 0xda6bc28d30>"
      ]
     },
     "metadata": {},
     "output_type": "display_data"
    }
   ],
   "source": [
    "plt.plot(Beta,mae)"
   ]
  },
  {
   "cell_type": "code",
   "execution_count": 17,
   "metadata": {},
   "outputs": [
    {
     "data": {
      "text/plain": [
       "[<matplotlib.lines.Line2D at 0xda6bd63780>]"
      ]
     },
     "execution_count": 17,
     "metadata": {},
     "output_type": "execute_result"
    },
    {
     "data": {
      "image/png": "[encoded data removed]",
      "text/plain": [
       "<matplotlib.figure.Figure at 0xda6bc7a4e0>"
      ]
     },
     "metadata": {},
     "output_type": "display_data"
    }
   ],
   "source": [
    "plt.plot(Beta,gim)"
   ]
  },
  {
   "cell_type": "code",
   "execution_count": 18,
   "metadata": {},
   "outputs": [
    {
     "data": {
      "text/plain": [
       "[<matplotlib.lines.Line2D at 0xda6bdf6ef0>]"
      ]
     },
     "execution_count": 18,
     "metadata": {},
     "output_type": "execute_result"
    },
    {
     "data": {
      "image/png": "[encoded data removed]",
      "text/plain": [
       "<matplotlib.figure.Figure at 0xda6bd92c88>"
      ]
     },
     "metadata": {},
     "output_type": "display_data"
    }
   ],
   "source": [
    "plt.plot(Beta,gpim)"
   ]
  },
  {
   "cell_type": "code",
   "execution_count": 19,
   "metadata": {},
   "outputs": [
    {
     "data": {
      "text/plain": [
       "[1.561657248137215,\n",
       " 1.5576816281019654,\n",
       " 1.554059416501759,\n",
       " 1.5507787243924849,\n",
       " 1.5478494645536593,\n",
       " 1.5452679185845404,\n",
       " 1.5430324615066144,\n",
       " 1.5411483268763462,\n",
       " 1.5396299694232327,\n",
       " 1.5384646944287979]"
      ]
     },
     "execution_count": 19,
     "metadata": {},
     "output_type": "execute_result"
    }
   ],
   "source": [
    "rmse"
   ]
  },
  {
   "cell_type": "code",
   "execution_count": 20,
   "metadata": {},
   "outputs": [
    {
     "data": {
      "text/plain": [
       "[1.2632951697803254,\n",
       " 1.2604377857295,\n",
       " 1.2577552710082727,\n",
       " 1.2552950110184233,\n",
       " 1.253111405298399,\n",
       " 1.2511993841397593,\n",
       " 1.2496333058973725,\n",
       " 1.2482663394672917,\n",
       " 1.2470897448311686,\n",
       " 1.2460526367846514]"
      ]
     },
     "execution_count": 20,
     "metadata": {},
     "output_type": "execute_result"
    }
   ],
   "source": [
    "mae"
   ]
  },
  {
   "cell_type": "code",
   "execution_count": 21,
   "metadata": {},
   "outputs": [
    {
     "data": {
      "text/plain": [
       "[0.9771964261259314,\n",
       " 0.9794296993702369,\n",
       " 0.9819641689062507,\n",
       " 0.9848331093865877,\n",
       " 0.9879970738147409,\n",
       " 0.9913277498215044,\n",
       " 0.9948670030338861,\n",
       " 0.9985610883552365,\n",
       " 1.002401273569486,\n",
       " 1.0063787128808415]"
      ]
     },
     "execution_count": 21,
     "metadata": {},
     "output_type": "execute_result"
    }
   ],
   "source": [
    "gim"
   ]
  },
  {
   "cell_type": "code",
   "execution_count": 22,
   "metadata": {},
   "outputs": [
    {
     "data": {
      "text/plain": [
       "[1.7822633572765039,\n",
       " 1.7781375319719603,\n",
       " 1.7738169121317582,\n",
       " 1.7704135098094775,\n",
       " 1.7681617178456652,\n",
       " 1.7664699094436567,\n",
       " 1.7642905935323487,\n",
       " 1.7633286674348658,\n",
       " 1.760339446021142,\n",
       " 1.7607309276818253]"
      ]
     },
     "execution_count": 22,
     "metadata": {},
     "output_type": "execute_result"
    }
   ],
   "source": [
    "gpim"
   ]
  },
  {
   "cell_type": "code",
   "execution_count": null,
   "metadata": {
    "collapsed": true
   },
   "outputs": [],
   "source": []
  }
 ],
 "metadata": {
  "kernelspec": {
   "display_name": "Python 3",
   "language": "python",
   "name": "python3"
  },
  "language_info": {
   "codemirror_mode": {
    "name": "ipython",
    "version": 3
   },
   "file_extension": ".py",
   "mimetype": "text/x-python",
   "name": "python",
   "nbconvert_exporter": "python",
   "pygments_lexer": "ipython3",
   "version": "3.6.1"
  }
 },
 "nbformat": 4,
 "nbformat_minor": 2
}
