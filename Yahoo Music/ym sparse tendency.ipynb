{
 "cells": [
  {
   "cell_type": "code",
   "execution_count": 81,
   "metadata": {
    "collapsed": true
   },
   "outputs": [],
   "source": [
    "import pandas as pd"
   ]
  },
  {
   "cell_type": "code",
   "execution_count": 82,
   "metadata": {
    "collapsed": true
   },
   "outputs": [],
   "source": [
    "import numpy as np"
   ]
  },
  {
   "cell_type": "code",
   "execution_count": 83,
   "metadata": {
    "collapsed": true
   },
   "outputs": [],
   "source": [
    "import math"
   ]
  },
  {
   "cell_type": "code",
   "execution_count": 84,
   "metadata": {
    "collapsed": true
   },
   "outputs": [],
   "source": [
    "train=pd.read_csv('f:/ym4trainsparse.csv',usecols=[1,2,3])\n",
    "test=pd.read_csv('f:/ym4testsparse.csv',usecols=[1,2,3])"
   ]
  },
  {
   "cell_type": "code",
   "execution_count": 85,
   "metadata": {
    "collapsed": true
   },
   "outputs": [],
   "source": [
    "no_movies = 1001\n",
    "no_users = 15401"
   ]
  },
  {
   "cell_type": "code",
   "execution_count": 86,
   "metadata": {
    "collapsed": false
   },
   "outputs": [
    {
     "data": {
      "text/html": [
       "<div>\n",
       "<table border=\"1\" class=\"dataframe\">\n",
       "  <thead>\n",
       "    <tr style=\"text-align: right;\">\n",
       "      <th></th>\n",
       "      <th>userId</th>\n",
       "      <th>movieId</th>\n",
       "      <th>rating</th>\n",
       "    </tr>\n",
       "  </thead>\n",
       "  <tbody>\n",
       "    <tr>\n",
       "      <th>0</th>\n",
       "      <td>3511</td>\n",
       "      <td>292</td>\n",
       "      <td>5</td>\n",
       "    </tr>\n",
       "    <tr>\n",
       "      <th>1</th>\n",
       "      <td>4618</td>\n",
       "      <td>127</td>\n",
       "      <td>5</td>\n",
       "    </tr>\n",
       "    <tr>\n",
       "      <th>2</th>\n",
       "      <td>2521</td>\n",
       "      <td>312</td>\n",
       "      <td>4</td>\n",
       "    </tr>\n",
       "    <tr>\n",
       "      <th>3</th>\n",
       "      <td>14132</td>\n",
       "      <td>651</td>\n",
       "      <td>1</td>\n",
       "    </tr>\n",
       "    <tr>\n",
       "      <th>4</th>\n",
       "      <td>10181</td>\n",
       "      <td>643</td>\n",
       "      <td>1</td>\n",
       "    </tr>\n",
       "  </tbody>\n",
       "</table>\n",
       "</div>"
      ],
      "text/plain": [
       "   userId  movieId  rating\n",
       "0    3511      292       5\n",
       "1    4618      127       5\n",
       "2    2521      312       4\n",
       "3   14132      651       1\n",
       "4   10181      643       1"
      ]
     },
     "execution_count": 86,
     "metadata": {},
     "output_type": "execute_result"
    }
   ],
   "source": [
    "train.head()"
   ]
  },
  {
   "cell_type": "code",
   "execution_count": null,
   "metadata": {
    "collapsed": true
   },
   "outputs": [],
   "source": []
  },
  {
   "cell_type": "code",
   "execution_count": 87,
   "metadata": {
    "collapsed": true
   },
   "outputs": [],
   "source": [
    "movies_mean=np.zeros(shape=[no_movies,3])"
   ]
  },
  {
   "cell_type": "code",
   "execution_count": 88,
   "metadata": {
    "collapsed": true
   },
   "outputs": [],
   "source": [
    "user_total=np.zeros(no_users)\n",
    "cnt=np.zeros(no_users,dtype='int64')\n",
    "for i, row in enumerate(train.itertuples(), 1):\n",
    "    p=int(row.movieId)\n",
    "    movies_mean[p][0]+=1\n",
    "    movies_mean[p][1]+=row.rating\n",
    "    k=int(row.userId)\n",
    "    cnt[k]+=1\n",
    "    user_total[k]+=row.rating\n",
    " "
   ]
  },
  {
   "cell_type": "code",
   "execution_count": 89,
   "metadata": {
    "collapsed": false
   },
   "outputs": [],
   "source": [
    "user_mean=np.array([ i/j for i,j in zip(user_total,cnt) ])\n",
    "for x in movies_mean:\n",
    "    x[2]=round(x[1]/x[0],2)\n",
    "    \n",
    "for x in movies_mean:\n",
    "    if math.isnan(x[2]):\n",
    "        x[2]=0\n",
    "        \n"
   ]
  },
  {
   "cell_type": "code",
   "execution_count": 90,
   "metadata": {
    "collapsed": true
   },
   "outputs": [],
   "source": [
    "for i in range(len(user_mean)):\n",
    "    if math.isnan(user_mean[i]):\n",
    "        user_mean[i]=0"
   ]
  },
  {
   "cell_type": "code",
   "execution_count": 91,
   "metadata": {
    "collapsed": true
   },
   "outputs": [],
   "source": [
    "foruser=np.zeros(no_users)\n",
    "formovies=np.zeros(no_movies)\n",
    "for i, row in enumerate(train.itertuples(), 1):\n",
    "    mov=int(row.movieId)\n",
    "    usr=int(row.userId)\n",
    "    foruser[usr]+=movies_mean[mov][2]\n",
    "    formovies[mov]+=user_mean[usr]"
   ]
  },
  {
   "cell_type": "code",
   "execution_count": 92,
   "metadata": {
    "collapsed": true
   },
   "outputs": [],
   "source": [
    "import time"
   ]
  },
  {
   "cell_type": "code",
   "execution_count": 93,
   "metadata": {
    "collapsed": true
   },
   "outputs": [],
   "source": [
    "%matplotlib inline\n",
    "import matplotlib.pyplot as plt"
   ]
  },
  {
   "cell_type": "code",
   "execution_count": null,
   "metadata": {
    "collapsed": true
   },
   "outputs": [],
   "source": []
  },
  {
   "cell_type": "code",
   "execution_count": 94,
   "metadata": {
    "collapsed": false
   },
   "outputs": [],
   "source": [
    "rmse=[]\n",
    "mae=[]\n",
    "gim=[]\n",
    "gpim=[]\n",
    "precission=[]\n",
    "recall=[]\n",
    "Beta=[i/10 for i in range(1,11)]\n",
    "for beta in Beta:\n",
    "    error=0\n",
    "    err1=0\n",
    "    g2=0\n",
    "    gp2=0\n",
    "    tp=0\n",
    "    fp=0\n",
    "    tn=0\n",
    "    fn=0\n",
    "    c_gim=0\n",
    "    c_gpim=0\n",
    "    c=0\n",
    "    for i, row in enumerate(test.itertuples(), 1):\n",
    "        \n",
    "        mov=int(row.movieId)\n",
    "        usr=int(row.userId)\n",
    "        actual=row.rating\n",
    "        predicted_rating=0\n",
    "    \n",
    "    \n",
    "        usr_mean=user_mean[usr]\n",
    "    \n",
    "        item_mean=movies_mean[mov][2]\n",
    "        usr_rated=cnt[usr]\n",
    "        usr_tendency=0\n",
    "        if usr_rated!=0:\n",
    "            usr_tendency=(user_total[usr]-foruser[usr])/usr_rated\n",
    "   \n",
    "        no_of_ratings=movies_mean[mov][0]\n",
    "        item_tendency=0\n",
    "        if no_of_ratings!=0:\n",
    "            item_tendency=(movies_mean[mov][1]-formovies[mov])/no_of_ratings\n",
    "   \n",
    "        if usr_tendency>=0 and item_tendency>=0:\n",
    "            predicted_rating=max(usr_mean+item_tendency,item_mean+usr_tendency)\n",
    "    \n",
    "        elif usr_tendency<0 and item_tendency<0:\n",
    "            predicted_rating=min(usr_mean+item_tendency,item_mean+usr_tendency)\n",
    "    \n",
    "        elif usr_tendency<0 and item_tendency>=0 and item_mean>usr_mean:\n",
    "            predicted_rating=min(max(usr_mean, (item_mean+usr_tendency)*beta + (usr_mean+item_tendency)*(1-beta)),item_mean)\n",
    "        \n",
    "        elif usr_tendency>=0 and item_tendency<0 and item_mean<usr_mean:\n",
    "            predicted_rating=min(max(item_mean, (item_mean+usr_tendency)*beta + (usr_mean+item_tendency)*(1-beta)),usr_mean)\n",
    "        else:\n",
    "            predicted_rating=((item_mean*beta) +usr_mean*(1-beta))\n",
    "    \n",
    "        error+=((actual-predicted_rating)**2)\n",
    "        err1+=math.fabs(actual-predicted_rating)\n",
    "        c+=1\n",
    "        if actual >=3:\n",
    "            g2+=abs(actual-predicted_rating)\n",
    "            c_gim+=1\n",
    "        if predicted_rating >=3:\n",
    "            gp2+=abs(actual-predicted_rating)\n",
    "            c_gpim+=1\n",
    "    \n",
    "        if actual>=3 and predicted_rating>=3:\n",
    "            tp+=1\n",
    "        elif actual<3 and predicted_rating>=3:\n",
    "            fp+=1\n",
    "        elif actual>=3 and predicted_rating<3:\n",
    "            fn+=1\n",
    "        else:\n",
    "            tn+=1\n",
    "    \n",
    "    gim.append(g2/c_gim)\n",
    "    gpim.append(gp2/c_gpim)\n",
    "    precission.append(tp/(tp+fp))\n",
    "    recall.append(tp/(tp+fn))\n",
    "    rmse.append(math.sqrt(error/c))\n",
    "    mae.append(err1/c)"
   ]
  },
  {
   "cell_type": "code",
   "execution_count": 95,
   "metadata": {
    "collapsed": false
   },
   "outputs": [
    {
     "data": {
      "text/plain": [
       "[<matplotlib.lines.Line2D at 0x28162f30668>]"
      ]
     },
     "execution_count": 95,
     "metadata": {},
     "output_type": "execute_result"
    },
    {
     "data": {
      "image/png": "[encoded data removed]",
      "text/plain": [
       "<matplotlib.figure.Figure at 0x281619f3c88>"
      ]
     },
     "metadata": {},
     "output_type": "display_data"
    }
   ],
   "source": [
    "plt.plot(Beta,rmse)"
   ]
  },
  {
   "cell_type": "code",
   "execution_count": 96,
   "metadata": {
    "collapsed": false
   },
   "outputs": [
    {
     "data": {
      "text/plain": [
       "[<matplotlib.lines.Line2D at 0x28162f8eb00>]"
      ]
     },
     "execution_count": 96,
     "metadata": {},
     "output_type": "execute_result"
    },
    {
     "data": {
      "image/png": "[encoded data removed]",
      "text/plain": [
       "<matplotlib.figure.Figure at 0x28161a13160>"
      ]
     },
     "metadata": {},
     "output_type": "display_data"
    }
   ],
   "source": [
    "plt.plot(Beta,mae)"
   ]
  },
  {
   "cell_type": "code",
   "execution_count": 97,
   "metadata": {
    "collapsed": false
   },
   "outputs": [
    {
     "data": {
      "text/plain": [
       "[1.0652829487687567,\n",
       " 1.0644080803623575,\n",
       " 1.0637248177358782,\n",
       " 1.063298992421484,\n",
       " 1.0631517660073324,\n",
       " 1.0631873905328544,\n",
       " 1.0634427484310809,\n",
       " 1.0639087688509388,\n",
       " 1.0646546728573942,\n",
       " 1.065668700749794]"
      ]
     },
     "execution_count": 97,
     "metadata": {},
     "output_type": "execute_result"
    }
   ],
   "source": [
    "mae"
   ]
  },
  {
   "cell_type": "code",
   "execution_count": 98,
   "metadata": {
    "collapsed": false
   },
   "outputs": [
    {
     "data": {
      "text/plain": [
       "[1.3895645233995377,\n",
       " 1.3858609599285001,\n",
       " 1.3826031223195452,\n",
       " 1.3798211400697031,\n",
       " 1.3775572452457834,\n",
       " 1.3757398290560303,\n",
       " 1.3743446578190326,\n",
       " 1.3734198610128479,\n",
       " 1.37296610383076,\n",
       " 1.3729595763640499]"
      ]
     },
     "execution_count": 98,
     "metadata": {},
     "output_type": "execute_result"
    }
   ],
   "source": [
    "rmse"
   ]
  },
  {
   "cell_type": "code",
   "execution_count": 99,
   "metadata": {
    "collapsed": false
   },
   "outputs": [
    {
     "data": {
      "text/plain": [
       "[1.0274340155777519,\n",
       " 1.0254440654821038,\n",
       " 1.0235278514251174,\n",
       " 1.0219229496879068,\n",
       " 1.0205533276833578,\n",
       " 1.0193711043305624,\n",
       " 1.0184925459869645,\n",
       " 1.0178399814309504,\n",
       " 1.0173606881049904,\n",
       " 1.0171697890678058]"
      ]
     },
     "execution_count": 99,
     "metadata": {},
     "output_type": "execute_result"
    }
   ],
   "source": [
    "gim"
   ]
  },
  {
   "cell_type": "code",
   "execution_count": 100,
   "metadata": {
    "collapsed": false
   },
   "outputs": [
    {
     "data": {
      "text/plain": [
       "[1.0617128523953869,\n",
       " 1.0609699630788452,\n",
       " 1.0605519037314466,\n",
       " 1.0613671264363387,\n",
       " 1.0600901583906146,\n",
       " 1.0616127816672503,\n",
       " 1.0621441945133741,\n",
       " 1.0629557153702189,\n",
       " 1.0648155288771335,\n",
       " 1.0649729401805672]"
      ]
     },
     "execution_count": 100,
     "metadata": {},
     "output_type": "execute_result"
    }
   ],
   "source": [
    "gpim"
   ]
  },
  {
   "cell_type": "code",
   "execution_count": 101,
   "metadata": {
    "collapsed": false
   },
   "outputs": [
    {
     "data": {
      "text/plain": [
       "[0.7877918101798699,\n",
       " 0.788023722976851,\n",
       " 0.7883365200764818,\n",
       " 0.7888103876265037,\n",
       " 0.7880061115355232,\n",
       " 0.7875548768849017,\n",
       " 0.7883920076117983,\n",
       " 0.7879075056861259,\n",
       " 0.7868665780983108,\n",
       " 0.7858765619083681]"
      ]
     },
     "execution_count": 101,
     "metadata": {},
     "output_type": "execute_result"
    }
   ],
   "source": [
    "precission"
   ]
  },
  {
   "cell_type": "code",
   "execution_count": 102,
   "metadata": {
    "collapsed": false
   },
   "outputs": [
    {
     "data": {
      "text/plain": [
       "[0.678030303030303,\n",
       " 0.6783596837944664,\n",
       " 0.6790184453227931,\n",
       " 0.6803359683794467,\n",
       " 0.6795125164690382,\n",
       " 0.6795125164690382,\n",
       " 0.6823122529644269,\n",
       " 0.6846179183135704,\n",
       " 0.682806324110672,\n",
       " 0.6836297760210803]"
      ]
     },
     "execution_count": 102,
     "metadata": {},
     "output_type": "execute_result"
    }
   ],
   "source": [
    "recall"
   ]
  }
 ],
 "metadata": {
  "anaconda-cloud": {},
  "kernelspec": {
   "display_name": "Python [default]",
   "language": "python",
   "name": "python3"
  },
  "language_info": {
   "codemirror_mode": {
    "name": "ipython",
    "version": 3
   },
   "file_extension": ".py",
   "mimetype": "text/x-python",
   "name": "python",
   "nbconvert_exporter": "python",
   "pygments_lexer": "ipython3",
   "version": "3.5.2"
  }
 },
 "nbformat": 4,
 "nbformat_minor": 1
}
